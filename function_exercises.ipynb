{
 "cells": [
  {
   "cell_type": "markdown",
   "id": "083c4f0b",
   "metadata": {},
   "source": [
    "# Functions"
   ]
  },
  {
   "cell_type": "markdown",
   "id": "c5e95829",
   "metadata": {},
   "source": [
    "### 1. Define a function named is_two. It should accept one input and return True if the passed input is either the number or the string 2, False otherwise."
   ]
  },
  {
   "cell_type": "code",
   "execution_count": 55,
   "id": "586946e0",
   "metadata": {},
   "outputs": [
    {
     "name": "stdout",
     "output_type": "stream",
     "text": [
      "True\n",
      "True\n",
      "False\n",
      "False\n",
      "False\n"
     ]
    }
   ],
   "source": [
    "'''\n",
    "    Defining the function is_two:- \n",
    "    The function is_two passes a single parameter \n",
    "    which can be a string or a numeric value.\n",
    "    The return value is boolean.\n",
    "    It should return True if the number 2 or string 2 is passed,otherwise False.\n",
    "    \n",
    "'''\n",
    "def is_two(input):\n",
    "        if input == 2 or input == '2':\n",
    "            return True\n",
    "        else:     \n",
    "            return False\n",
    "print(is_two(2))       #True\n",
    "print(is_two('2'))     #True\n",
    "print(is_two(3))       #False\n",
    "print(is_two('friday'))#False      \n",
    "print(is_two('2.0'))   #False  \n",
    "\n",
    "   \n"
   ]
  },
  {
   "cell_type": "markdown",
   "id": "c1350db7",
   "metadata": {},
   "source": [
    "### 2. Define a function named is_vowel. It should return True if the passed string is a vowel, False otherwise."
   ]
  },
  {
   "cell_type": "code",
   "execution_count": 5,
   "id": "a462cd07",
   "metadata": {},
   "outputs": [
    {
     "name": "stdout",
     "output_type": "stream",
     "text": [
      "False\n",
      "True\n",
      "True\n",
      "False\n",
      "False\n",
      "False\n"
     ]
    }
   ],
   "source": [
    "'''\n",
    "    Defining the function is_vowel:- \n",
    "    The function is_vowel passes a single parameter \n",
    "    which is a string .\n",
    "    The return value is boolean.\n",
    "    It should return True if the passed string is a single vowel,otherwise False.\n",
    "    \n",
    "'''\n",
    "def is_vowel(input_str):\n",
    "    return isinstance(input_str, str) and input_str.lower() in {'a', 'e', 'i', 'o', 'u'}\n",
    "\n",
    "\n",
    "print(is_vowel('2'))     # False\n",
    "print(is_vowel('a'))     #True\n",
    "print(is_vowel('E'))     #True\n",
    "print(is_vowel('q'))     # False\n",
    "print(is_vowel('aeiou')) # False\n",
    "print(is_vowel('ouab'))  # False"
   ]
  },
  {
   "cell_type": "markdown",
   "id": "c895bf09",
   "metadata": {},
   "source": [
    "### 3. Define a function named is_consonant. It should return True if the passed string is a consonant, False otherwise. Use your is_vowel function to accomplish this.\n"
   ]
  },
  {
   "cell_type": "code",
   "execution_count": 17,
   "id": "ba79bd81",
   "metadata": {},
   "outputs": [
    {
     "name": "stdout",
     "output_type": "stream",
     "text": [
      "False\n",
      "False\n",
      "False\n",
      "True\n",
      "False\n",
      "False\n"
     ]
    }
   ],
   "source": [
    "'''\n",
    "    Defining the function is_consonant:- \n",
    "    The function is_consonant passes a single parameter \n",
    "    which is a string .\n",
    "    The return value is boolean.\n",
    "    It should return True if the passed string is a consonant,otherwise False.\n",
    "    \n",
    "'''\n",
    "def is_vowel(input_str):\n",
    "    return isinstance(input_str, str) and input_str.lower() in {'a', 'e', 'i', 'o', 'u'}\n",
    "\n",
    "def is_consonant(input_str):\n",
    "    return isinstance(input_str, str) and all(char.isalpha() and not is_vowel(char) for char in input_str)and \n",
    "    input_str.isalpha() and not is_vowel(input_str)\n",
    "\n",
    "\n",
    "print(is_consonant('2'))   # False\n",
    "print(is_consonant('a'))   # False\n",
    "print(is_consonant('E'))   # False\n",
    "print(is_consonant('q'))   # True\n",
    "print(is_consonant('aei')) # False\n",
    "print(is_consonant('ouab'))# False"
   ]
  },
  {
   "cell_type": "markdown",
   "id": "b6c426df",
   "metadata": {},
   "source": [
    "### 4. Define a function that accepts a string that is a word. The function should capitalize the first letter of the word if the word starts with a consonant.\n"
   ]
  },
  {
   "cell_type": "code",
   "execution_count": 4,
   "id": "39341e5d",
   "metadata": {},
   "outputs": [
    {
     "name": "stdout",
     "output_type": "stream",
     "text": [
      "Have a great day!\n",
      "it's a great day!\n"
     ]
    }
   ],
   "source": [
    "'''\n",
    "    Defining the function cap_consonant:- \n",
    "    The function cap_consonant passes a single parameter \n",
    "    which is a string . The return value is a string.\n",
    "    It should return the string after capitalizing the first letter of the word if the word starts with a consonant.\n",
    "    \n",
    "'''\n",
    "\n",
    "def cap_consonant(input_string):\n",
    "    vowels = 'aeiouAEIOU'\n",
    "    for letter in vowels:\n",
    "        if input_string[0] in vowels: # indexing of string \n",
    "            return input_string\n",
    "        else:\n",
    "            return input_string.capitalize()\n",
    "        \n",
    "print(cap_consonant(\"have a great day!\"))\n",
    "print(cap_consonant(\"it's a great day!\"))\n",
    "\n",
    "\n"
   ]
  },
  {
   "cell_type": "markdown",
   "id": "20d68677",
   "metadata": {},
   "source": [
    "### 5.Define a function named calculate_tip. It should accept a tip percentage (a number between 0 and 1) and the bill total, and return the amount to tip.\n"
   ]
  },
  {
   "cell_type": "code",
   "execution_count": 22,
   "id": "fe6c8fb4",
   "metadata": {},
   "outputs": [
    {
     "name": "stdout",
     "output_type": "stream",
     "text": [
      "Tip percentage should be a number between 0 and 1.\n",
      "30.0\n",
      "20.0\n"
     ]
    }
   ],
   "source": [
    "'''\n",
    "    Defining the function calculate_tip:- \n",
    "    The function calculate_tip passes 2 parameters \n",
    "    which can be two float values.\n",
    "    The return value is float and if tip percentage is not a number between 0 and 1 then returns an error message.\n",
    "    \n",
    "'''\n",
    "# positional arguments vs keyword arguments: (kwarg)\n",
    "\n",
    "def calculate_tip(tip_percent,bill_amt):\n",
    "    if 0 <= tip_percent <= 1:\n",
    "        return bill_amt * tip_percent\n",
    "    else:\n",
    "        return(\"Tip percentage should be a number between 0 and 1.\")\n",
    "   \n",
    "print (calculate_tip(1.2,100))  \n",
    "print (calculate_tip(.3,100.00)) \n",
    "print (calculate_tip(.2,100.00)) "
   ]
  },
  {
   "cell_type": "markdown",
   "id": "5a07850e",
   "metadata": {},
   "source": [
    "### 6.Define a function named apply_discount. It should accept a original price, and a discount percentage, and return the price after the discount is applied."
   ]
  },
  {
   "cell_type": "code",
   "execution_count": 69,
   "id": "e255e54d",
   "metadata": {},
   "outputs": [
    {
     "name": "stdout",
     "output_type": "stream",
     "text": [
      "55.0\n",
      "5.0\n",
      "80.0\n"
     ]
    }
   ],
   "source": [
    "'''\n",
    "    Defining the function apply_discount:- \n",
    "    The function apply_discount passes 2 parameters\n",
    "    which can be two float values.\n",
    "    The return value is float.\n",
    "    \n",
    "'''\n",
    "\n",
    "def apply_discount(dis_percent,orig_price):\n",
    "    dis_amt = dis_percent * orig_price\n",
    "    amt_aftr_dis = orig_price - dis_amt\n",
    "    return (amt_aftr_dis)\n",
    "print (apply_discount(.45,100))  \n",
    "print (apply_discount(.75,20)) \n",
    "print (apply_discount(.2,100.00))"
   ]
  },
  {
   "cell_type": "markdown",
   "id": "49c3f933",
   "metadata": {},
   "source": [
    "### 7.Define a function named handle_commas. It should accept a string that is a number that contains commas in it as input, and return a number as output.\n"
   ]
  },
  {
   "cell_type": "code",
   "execution_count": 58,
   "id": "301391a4",
   "metadata": {},
   "outputs": [
    {
     "name": "stdout",
     "output_type": "stream",
     "text": [
      "1000000\n"
     ]
    }
   ],
   "source": [
    "'''\n",
    "    Defining the function handle_commas:- \n",
    "    The function handle_commas passes a single parameter \n",
    "    which is a string that is a number.\n",
    "    The return value is a number.\n",
    "    It should return True if the number 2 or string 2 is passed,otherwise False.\n",
    "    \n",
    "'''\n",
    "\n",
    "def handle_commas(inp_string):\n",
    "    out_string = int(inp_string.replace(\",\" , \"\"))\n",
    "    return(out_string)\n",
    "print(handle_commas('1,000,000'))\n",
    "\n",
    "    \n"
   ]
  },
  {
   "cell_type": "code",
   "execution_count": 14,
   "id": "2be3cfad",
   "metadata": {},
   "outputs": [
    {
     "name": "stdout",
     "output_type": "stream",
     "text": [
      "1000000\n",
      "10005.29\n"
     ]
    }
   ],
   "source": [
    "# or  if the input contains a decimal point, convert to float, otherwise convert to int\n",
    "def handle_commas(inp_string):\n",
    "    return float(inp_string.replace(',', '')) if '.' in inp_string else int(inp_string.replace(',', ''))\n",
    "print(handle_commas('1,000,000'))\n",
    "print(handle_commas('1,000,5.29'))\n",
    "    "
   ]
  },
  {
   "cell_type": "markdown",
   "id": "7a9c10ca",
   "metadata": {},
   "source": [
    "### 8.Define a function named get_letter_grade. It should accept a number and return the letter grade associated with that number (A-F).\n"
   ]
  },
  {
   "cell_type": "code",
   "execution_count": 22,
   "id": "8d1b5844",
   "metadata": {},
   "outputs": [
    {
     "name": "stdout",
     "output_type": "stream",
     "text": [
      "95 is an A\n",
      "85 is a B\n",
      "75 is a C\n",
      "65 is a D\n",
      "55 is an F\n",
      "0 is an F\n",
      "Please enter a grade between 0 and 100\n",
      "No negative numbers please\n"
     ]
    }
   ],
   "source": [
    "'''\n",
    "    Defining the function get_letter_grade:- \n",
    "    The function get_letter_grade passes a single parameter \n",
    "    which is a numeric value.\n",
    "    The return value is string.\n",
    "    It should return True if the number 2 or string 2 is passed,otherwise False.\n",
    "    \n",
    "'''\n",
    "\n",
    "def get_letter_grade(inp_no_grade):\n",
    "    if inp_no_grade >= 100:\n",
    "        print('Please enter a grade between 0 and 100')\n",
    "    elif inp_no_grade >= 90 :\n",
    "        print(f'{inp_no_grade} is an A')\n",
    "    elif inp_no_grade >= 80:\n",
    "        print(f'{inp_no_grade} is a B')\n",
    "    elif inp_no_grade >= 70:\n",
    "        print(f'{inp_no_grade} is a C')\n",
    "    elif inp_no_grade >= 60:\n",
    "        print(f'{inp_no_grade} is a D')\n",
    "    elif inp_no_grade <= 59 and inp_no_grade >=0:\n",
    "        print(f'{inp_no_grade} is an F')\n",
    "    else: \n",
    "        print('No negative numbers please')\n",
    "        \n",
    " # Calling the function by passing a numerical score  as an argument and returns the corresponding letter grade      \n",
    "get_letter_grade(95)\n",
    "get_letter_grade(85)\n",
    "get_letter_grade(75)\n",
    "get_letter_grade(65)\n",
    "get_letter_grade(55)\n",
    "get_letter_grade(0)\n",
    "get_letter_grade(105)\n",
    "get_letter_grade(-5)\n",
    "\n"
   ]
  },
  {
   "cell_type": "markdown",
   "id": "012ec1bb",
   "metadata": {},
   "source": [
    "### 9.Define a function named remove_vowels that accepts a string and returns a string with all the vowels removed."
   ]
  },
  {
   "cell_type": "code",
   "execution_count": 27,
   "id": "a3f91de2",
   "metadata": {},
   "outputs": [
    {
     "name": "stdout",
     "output_type": "stream",
     "text": [
      "Gd mrnng vryn!\n",
      "T YR BRKFST!\n"
     ]
    }
   ],
   "source": [
    "'''\n",
    "    Defining the function remove_vowels:- \n",
    "    The function remove_vowels passes a single parameter \n",
    "    which is a string .\n",
    "    The return value is string.\n",
    "    \n",
    "'''\n",
    "\n",
    "\n",
    "# This function remove_vowels defines a single parameter, inp_string which is a string, \n",
    "# and will return a string value without the vowels\n",
    "def remove_vowels(inp_string):\n",
    "    vowels = ('a', 'e', 'i', 'o', 'u','A', 'E', 'I', 'O', 'U')\n",
    "    for i in inp_string:\n",
    "        if i in vowels:\n",
    "            inp_string = inp_string.replace(i,\"\")\n",
    "    return inp_string\n",
    "\n",
    "# Calling the function remove_vowels by passing a string value  as an argument \n",
    "# and returns the string without the vowels      \n",
    "print(remove_vowels(\"Good morning everyone!\")) \n",
    "# Call the function and store the result in the variable rmv_vwl and print it\n",
    "rmv_vwl = remove_vowels(\"EAT YOUR BREAKFAST!\") \n",
    "print (rmv_vwl)\n"
   ]
  },
  {
   "cell_type": "markdown",
   "id": "d781d7f1",
   "metadata": {},
   "source": [
    "### 10. Define a function named normalize_name. It should accept a string and return a valid python identifier, that is: anything that is not a valid python identifier should be removed leading and trailing whitespace should be removed everything should be lowercase spaces should be replaced with underscores for example:Name will become name First Name will become first_name % Completed will become completed\n"
   ]
  },
  {
   "cell_type": "code",
   "execution_count": 41,
   "id": "961e80a9",
   "metadata": {
    "scrolled": true
   },
   "outputs": [
    {
     "name": "stdout",
     "output_type": "stream",
     "text": [
      "let_s___ex_pl_ore\n",
      "i_am__game\n",
      "my_9_cats\n"
     ]
    }
   ],
   "source": [
    "'''\n",
    "    Defining the function normalize_name:- \n",
    "    The function normalize_name passes a string \n",
    "    which can be a string or a numeric value.\n",
    "    The return value is string.\n",
    "    It should return a valid python identifier.\n",
    "    # .strip method is used to remove leading and trailing whitespace\n",
    "    # .lower() is a string method that converts all characters in a string to lowercase\n",
    "    # .replace method is used to replace occurrences of a specified substring with another substring in a string.\n",
    "    # .isidentifier() method is a built-in method in Python that is used to check \n",
    "    # if a given string is a valid Python identifier.\n",
    "    # The first character must be a letter (a-z, A-Z) or an underscore (_).\n",
    "    # The rest of the characters can be letters, underscores, or digits (0-9).\n",
    "    # The identifier must not be a Python keyword or reserved word.\n",
    "'''\n",
    "\n",
    "def normalize_name(text):\n",
    "    # Step 1: Convert text to lowercase, remove leading/trailing spaces, and replace spaces with underscores\n",
    "    newvar = ''\n",
    "    for c in text.lower().strip():\n",
    "        if c.isalpha() or c.isdigit() or c == ' ':\n",
    "            if c == ' ':\n",
    "                newvar += '_'\n",
    "            else:\n",
    "                newvar += c\n",
    "\n",
    "    # Step 2: Remove any characters that are not a valid Python identifier\n",
    "    normalized_name = ''\n",
    "    prev_char_is_underscore = False\n",
    "    for i, c in enumerate(newvar):\n",
    "        if c.isidentifier() or (c == '_' and not prev_char_is_underscore) or c.isdigit():\n",
    "            normalized_name += c\n",
    "        prev_char_is_underscore = (c == '_')\n",
    "\n",
    "    return normalized_name\n",
    "\n",
    "\n",
    "\n",
    "print(normalize_name(\"let' s   eX. PL# orE\")) # Output: let_s___ex_pl_ore\n",
    "print(normalize_name(\" I am + game!  \"))      # Output: i_am__game\n",
    "print(normalize_name(\" My 9 Cats \"))          # Output: my_9_cats\n"
   ]
  },
  {
   "cell_type": "markdown",
   "id": "8dc369e1",
   "metadata": {},
   "source": [
    "### 11. Write a function named cumulative_sum that accepts a list of numbers and returns a list that is the cumulative sum of the numbers in the list. cumulative_sum([1, 1, 1]) returns [1, 2, 3] cumulative_sum([1, 2, 3, 4]) returns [1, 3, 6, 10]"
   ]
  },
  {
   "cell_type": "code",
   "execution_count": 42,
   "id": "fa1959d0",
   "metadata": {},
   "outputs": [
    {
     "name": "stdout",
     "output_type": "stream",
     "text": [
      "[1, 2, 3]\n",
      "[2, 4, 6]\n",
      "[1, 3, 6, 10]\n",
      "[5, 11, 18, 26]\n"
     ]
    }
   ],
   "source": [
    "'''\n",
    "    Defining the function cumulative_sum:- \n",
    "    The function cumulative_sum passes a single parameter , num_list which is a list of numbers, \n",
    "    and will return a cumulative sum of the numbers in the list which is a string .\n",
    " \n",
    "'''\n",
    "\n",
    "def cumulative_sum(num_list):\n",
    "    return [sum(num_list[:i+1]) for i in range(len(num_list))]\n",
    "\n",
    "\n",
    "# Calling the function cumulative_sum by passing a list of numbers  as an argument \n",
    "# and returns the cumulative sum of the numbers   \n",
    "print(cumulative_sum([1,1,1]))\n",
    "print(cumulative_sum([2,2,2]))\n",
    "print(cumulative_sum([1,2,3,4])) \n",
    "print(cumulative_sum([5,6,7,8])) \n"
   ]
  },
  {
   "cell_type": "code",
   "execution_count": null,
   "id": "060b277e",
   "metadata": {},
   "outputs": [],
   "source": []
  }
 ],
 "metadata": {
  "kernelspec": {
   "display_name": "Python 3 (ipykernel)",
   "language": "python",
   "name": "python3"
  },
  "language_info": {
   "codemirror_mode": {
    "name": "ipython",
    "version": 3
   },
   "file_extension": ".py",
   "mimetype": "text/x-python",
   "name": "python",
   "nbconvert_exporter": "python",
   "pygments_lexer": "ipython3",
   "version": "3.11.3"
  }
 },
 "nbformat": 4,
 "nbformat_minor": 5
}
