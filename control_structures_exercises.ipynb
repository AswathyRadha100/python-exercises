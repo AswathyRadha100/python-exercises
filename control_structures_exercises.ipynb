{
 "cells": [
  {
   "cell_type": "markdown",
   "id": "f683d8c4",
   "metadata": {},
   "source": [
    "# Control Structures"
   ]
  },
  {
   "cell_type": "markdown",
   "id": "162a5a2c",
   "metadata": {},
   "source": [
    "## Conditional Basics"
   ]
  },
  {
   "cell_type": "markdown",
   "id": "80286cde",
   "metadata": {},
   "source": [
    "### 1.a  Prompt the user for a day of the week, print out whether the day is Monday or not"
   ]
  },
  {
   "cell_type": "code",
   "execution_count": 50,
   "id": "6fe75164",
   "metadata": {},
   "outputs": [
    {
     "name": "stdout",
     "output_type": "stream",
     "text": [
      "Enter a day of the week: Tuesday\n",
      "It's not Monday.\n"
     ]
    }
   ],
   "source": [
    "day = input(\"Enter a day of the week: \")\n",
    "day = day.lower()  # To make the comparison case-insensitive\n",
    "if day == \"monday\":\n",
    "    print(\"It's Monday!\")\n",
    "else:\n",
    "    print(\"It's not Monday.\")\n"
   ]
  },
  {
   "cell_type": "markdown",
   "id": "e97eb08e",
   "metadata": {},
   "source": [
    "### 1.b. Prompt the user for a day of the week, print out whether the day is a weekday or a weekend"
   ]
  },
  {
   "cell_type": "code",
   "execution_count": 12,
   "id": "0280e6ad",
   "metadata": {},
   "outputs": [
    {
     "name": "stdout",
     "output_type": "stream",
     "text": [
      "Enter a day of the week: saturday\n",
      "Saturday is a weekend!\n"
     ]
    }
   ],
   "source": [
    "day_of_week = input(\"Enter a day of the week: \")    \n",
    "day_of_week = day_of_week.lower()# Converting the input to lowercase for case-insensitive comparison\n",
    "if day_of_week == \"saturday\" or day_of_week == \"sunday\":\n",
    "    print(day_of_week.capitalize(), \"is a weekend!\")\n",
    "else:\n",
    "    print(day_of_week.capitalize(), \"is a weekday!\")"
   ]
  },
  {
   "cell_type": "markdown",
   "id": "168edb7f",
   "metadata": {},
   "source": [
    "### 1.C  Calculate a weekly paycheck, accounting for overtime pay. Create variables and make up values for:\n",
    "\n",
    "The number of hours worked in one week\n",
    "The hourly rate\n",
    "For calculating pay:\n",
    "\n",
    "For working 40 hours or less, each hour is paid at the hourly rate\n",
    "For working more than 40 hours\n",
    "\n",
    "the first 40 hours are paid at the hourly rate\n",
    "\n",
    "each hour after 40 is paid at time and a half (hourly rate * 1.5)"
   ]
  },
  {
   "cell_type": "code",
   "execution_count": 14,
   "id": "617997b7",
   "metadata": {},
   "outputs": [
    {
     "name": "stdout",
     "output_type": "stream",
     "text": [
      "Enter the no: of hrs worked: 46\n",
      "Enter the hourly working rate: 20\n",
      "Your weekly paycheck: 980.0\n"
     ]
    }
   ],
   "source": [
    "hours_worked = int(input(\"Enter the no: of hrs worked: \"))\n",
    "hourly_rate = int(input(\"Enter the hourly working rate: \"))\n",
    "\n",
    "if hours_worked <= 40:\n",
    "    weekly_pay = hours_worked * hourly_rate\n",
    "else:\n",
    "    regular_pay = 40 * hourly_rate\n",
    "    overtime_pay = (hours_worked - 40) * hourly_rate * 1.5\n",
    "    weekly_pay = regular_pay + overtime_pay\n",
    "\n",
    "print(\"Your weekly paycheck:\", weekly_pay)\n"
   ]
  },
  {
   "cell_type": "code",
   "execution_count": null,
   "id": "d4b71d0e",
   "metadata": {},
   "outputs": [],
   "source": [
    "#2. Loop Basics"
   ]
  },
  {
   "cell_type": "markdown",
   "id": "d6230ac0",
   "metadata": {},
   "source": [
    "### 2.a While Loop"
   ]
  },
  {
   "cell_type": "markdown",
   "id": "a442408e",
   "metadata": {},
   "source": [
    "### 2.a.i Create an integer variable i with a value of 5. Create a while loop that runs so  long as i is less than or equal to 15. Each loop iteration, output the current value of i, then increment i by one."
   ]
  },
  {
   "cell_type": "code",
   "execution_count": 23,
   "id": "833387bd",
   "metadata": {},
   "outputs": [
    {
     "name": "stdout",
     "output_type": "stream",
     "text": [
      "5\n",
      "6\n",
      "7\n",
      "8\n",
      "9\n",
      "10\n",
      "11\n",
      "12\n",
      "13\n",
      "14\n",
      "15\n"
     ]
    }
   ],
   "source": [
    "i = 5\n",
    "while i <= 15:\n",
    "    print(i)\n",
    "    i += 1"
   ]
  },
  {
   "cell_type": "markdown",
   "id": "93b106d0",
   "metadata": {},
   "source": [
    "### 2.a.i  Create a while loop that will count by 2's starting with 0 and ending at 100. Follow each number with a new line."
   ]
  },
  {
   "cell_type": "code",
   "execution_count": 29,
   "id": "81461dff",
   "metadata": {},
   "outputs": [
    {
     "name": "stdout",
     "output_type": "stream",
     "text": [
      "0\n",
      "2\n",
      "4\n",
      "6\n",
      "8\n",
      "10\n",
      "12\n",
      "14\n",
      "16\n",
      "18\n",
      "20\n",
      "22\n",
      "24\n",
      "26\n",
      "28\n",
      "30\n",
      "32\n",
      "34\n",
      "36\n",
      "38\n",
      "40\n",
      "42\n",
      "44\n",
      "46\n",
      "48\n",
      "50\n",
      "52\n",
      "54\n",
      "56\n",
      "58\n",
      "60\n",
      "62\n",
      "64\n",
      "66\n",
      "68\n",
      "70\n",
      "72\n",
      "74\n",
      "76\n",
      "78\n",
      "80\n",
      "82\n",
      "84\n",
      "86\n",
      "88\n",
      "90\n",
      "92\n",
      "94\n",
      "96\n",
      "98\n",
      "100\n"
     ]
    }
   ],
   "source": [
    "i = 0\n",
    "while i <= 100 :\n",
    "    print(i)\n",
    "    i += 2"
   ]
  },
  {
   "cell_type": "markdown",
   "id": "255057d3",
   "metadata": {},
   "source": [
    "### 2. a.ii Create a while loop that starts at 2, and displays the number squared on each line while the number is less than 1,000,000. Output should equal:\n",
    " 2\n",
    " 4\n",
    " 16\n",
    " 256\n",
    " 65536"
   ]
  },
  {
   "cell_type": "code",
   "execution_count": 30,
   "id": "96dba066",
   "metadata": {},
   "outputs": [
    {
     "name": "stdout",
     "output_type": "stream",
     "text": [
      "2\n",
      "4\n",
      "16\n",
      "256\n",
      "65536\n"
     ]
    }
   ],
   "source": [
    "i = 2\n",
    "while i < 1000000 :\n",
    "    print(i)\n",
    "    i = i** 2\n",
    "    #i**=2"
   ]
  },
  {
   "cell_type": "markdown",
   "id": "a8303d80",
   "metadata": {},
   "source": [
    "### 2.a. iii Write a while loop that uses print to create the output shown below."
   ]
  },
  {
   "cell_type": "code",
   "execution_count": 34,
   "id": "53acf146",
   "metadata": {},
   "outputs": [
    {
     "name": "stdout",
     "output_type": "stream",
     "text": [
      "100\n",
      "95\n",
      "90\n",
      "85\n",
      "80\n",
      "75\n",
      "70\n",
      "65\n",
      "60\n",
      "55\n",
      "50\n",
      "45\n",
      "40\n",
      "35\n",
      "30\n",
      "25\n",
      "20\n",
      "15\n",
      "10\n",
      "5\n"
     ]
    }
   ],
   "source": [
    "i = 100\n",
    "while i >= 5:\n",
    "    print(i)\n",
    "    i -= 5\n",
    "\n"
   ]
  },
  {
   "cell_type": "code",
   "execution_count": null,
   "id": "6b6c1621",
   "metadata": {},
   "outputs": [],
   "source": [
    "# For Loops"
   ]
  },
  {
   "cell_type": "markdown",
   "id": "7f3a7206",
   "metadata": {},
   "source": [
    "#### 2.b.i Write some code using a for loop that prompts the user for a number, then shows a multiplication table up through 10 for that number.\n",
    "\n",
    "#For example, if the user enters 7, your program should output:\n",
    "\n",
    "\n",
    "#7 x 1 = 7\n",
    "#7 x 2 = 14\n",
    "#7 x 3 = 21\n",
    "#7 x 4 = 28\n",
    "#7 x 5 = 35\n",
    "#7 x 6 = 42\n",
    "#7 x 7 = 49\n",
    "#7 x 8 = 56\n",
    "#7 x 9 = 63\n",
    "#7 x 10 = 70\n"
   ]
  },
  {
   "cell_type": "code",
   "execution_count": 37,
   "id": "39d1844c",
   "metadata": {
    "scrolled": true
   },
   "outputs": [
    {
     "name": "stdout",
     "output_type": "stream",
     "text": [
      "ENTER A NUMBER:8\n",
      "8 X 1 = 8\n",
      "8 X 2 = 16\n",
      "8 X 3 = 24\n",
      "8 X 4 = 32\n",
      "8 X 5 = 40\n",
      "8 X 6 = 48\n",
      "8 X 7 = 56\n",
      "8 X 8 = 64\n",
      "8 X 9 = 72\n",
      "8 X 10 = 80\n"
     ]
    }
   ],
   "source": [
    "num_entered = int(input(\"ENTER A NUMBER:\"))\n",
    "for i in range(1,11):\n",
    "    print(num_entered,'X',i,'=',num_entered*i)\n",
    "\n"
   ]
  },
  {
   "cell_type": "markdown",
   "id": "c90f0bbd",
   "metadata": {},
   "source": [
    "#### 2.b.ii Create a for loop that uses print to create the output shown below.\n",
    "\n",
    "\n",
    "\n",
    "1\n",
    "22\n",
    "333\n",
    "4444\n",
    "55555\n",
    "666666\n",
    "7777777\n",
    "88888888\n",
    "999999999"
   ]
  },
  {
   "cell_type": "code",
   "execution_count": 39,
   "id": "96702b25",
   "metadata": {},
   "outputs": [
    {
     "name": "stdout",
     "output_type": "stream",
     "text": [
      "\n",
      "1\n",
      "22\n",
      "333\n",
      "4444\n",
      "55555\n",
      "666666\n",
      "7777777\n",
      "88888888\n",
      "999999999\n"
     ]
    }
   ],
   "source": [
    "for i in range(10):\n",
    "    print(str(i) * i)\n"
   ]
  },
  {
   "cell_type": "markdown",
   "id": "f9470f37",
   "metadata": {},
   "source": [
    "## Break and continue"
   ]
  },
  {
   "cell_type": "markdown",
   "id": "88d376ae",
   "metadata": {},
   "source": [
    "\n",
    "### 2. C.i Write a program that prompts the user for a positive integer.\n",
    "### Next write a loop that prints out the numbers from the number the user entered down to 1."
   ]
  },
  {
   "cell_type": "code",
   "execution_count": 8,
   "id": "f1f15a16",
   "metadata": {},
   "outputs": [
    {
     "name": "stdout",
     "output_type": "stream",
     "text": [
      "Enter a positive integer:5\n",
      "5\n",
      "4\n",
      "3\n",
      "2\n",
      "1\n"
     ]
    }
   ],
   "source": [
    "\n",
    "pos_int_inp = int(input('Enter a positive integer:'))\n",
    "if pos_int_inp == 0:\n",
    "   print('Please enter a positive number greater than zero')\n",
    "else:\n",
    "    while pos_int_inp >= 1:\n",
    "        print(pos_int_inp)\n",
    "        pos_int_inp -= 1 \n",
    "    \n",
    "    \n",
    "    \n",
    "    \n",
    "    "
   ]
  },
  {
   "cell_type": "markdown",
   "id": "4c011320",
   "metadata": {},
   "source": [
    "### 2.C.ii The input function can be used to prompt for input and use that input in your python code. Prompt the user to enter a positive number and write a loop that counts from 0 to that number. (Hints: note that the input function returns a string, so you'll need to convert this to a numeric type.)"
   ]
  },
  {
   "cell_type": "code",
   "execution_count": 9,
   "id": "35a25426",
   "metadata": {},
   "outputs": [
    {
     "name": "stdout",
     "output_type": "stream",
     "text": [
      "Enter a positive integer:3\n",
      "0\n",
      "1\n",
      "2\n",
      "3\n"
     ]
    }
   ],
   "source": [
    "pos_inp = int(input('Enter a positive integer:'))\n",
    "if pos_inp <= 0:\n",
    "   print('Please enter a positive number greater than zero')\n",
    "else:\n",
    "    for i in range(pos_inp + 1):\n",
    "        print(i)\n",
    "    \n",
    "    "
   ]
  },
  {
   "cell_type": "markdown",
   "id": "3446a917",
   "metadata": {},
   "source": [
    "### 2. c -iii Prompt the user for an odd number between 1 and 50. Use a loop and a break statement to continue prompting the user if they enter invalid input. (Hint: use the isdigit method on strings to determine this). Use a loop and the continue statement to output all the odd numbers between 1 and 50, except for the number the user entered.Your output should look like this:\n",
    "\n",
    "\n",
    "#### Number to skip is: 27\n",
    "\n",
    "#### Here is an odd number: 1\n",
    "Here is an odd number: 3\n",
    "Here is an odd number: 5\n",
    "Here is an odd number: 7\n",
    "Here is an odd number: 9\n",
    "Here is an odd number: 11\n",
    "Here is an odd number: 13\n",
    "Here is an odd number: 15\n",
    "Here is an odd number: 17\n",
    "Here is an odd number: 19\n",
    "Here is an odd number: 21\n",
    "Here is an odd number: 23\n",
    "Here is an odd number: 25\n",
    "Yikes! Skipping number: 27\n",
    "Here is an odd number: 29\n",
    "Here is an odd number: 31\n",
    "Here is an odd number: 33\n",
    "Here is an odd number: 35\n",
    "Here is an odd number: 37\n",
    "Here is an odd number: 39\n",
    "Here is an odd number: 41\n",
    "Here is an odd number: 43\n",
    "Here is an odd number: 45\n",
    "Here is an odd number: 47\n",
    "Here is an odd number: 49\n",
    "    "
   ]
  },
  {
   "cell_type": "code",
   "execution_count": 47,
   "id": "2aaa8c8a",
   "metadata": {},
   "outputs": [
    {
     "name": "stdout",
     "output_type": "stream",
     "text": [
      "Enter an odd number between 1 and 50: 2\n",
      "Number is not odd. Please enter an odd number.\n",
      "Enter an odd number between 1 and 50: 8\n",
      "Number is not odd. Please enter an odd number.\n",
      "Enter an odd number between 1 and 50: 7\n",
      "\n",
      "Number to skip is: 7\n",
      "\n",
      "Here is an odd number: 1\n",
      "Here is an odd number: 3\n",
      "Here is an odd number: 5\n",
      "Yikes! Skipping number: 7\n",
      "Here is an odd number: 9\n",
      "Here is an odd number: 11\n",
      "Here is an odd number: 13\n",
      "Here is an odd number: 15\n",
      "Here is an odd number: 17\n",
      "Here is an odd number: 19\n",
      "Here is an odd number: 21\n",
      "Here is an odd number: 23\n",
      "Here is an odd number: 25\n",
      "Here is an odd number: 27\n",
      "Here is an odd number: 29\n",
      "Here is an odd number: 31\n",
      "Here is an odd number: 33\n",
      "Here is an odd number: 35\n",
      "Here is an odd number: 37\n",
      "Here is an odd number: 39\n",
      "Here is an odd number: 41\n",
      "Here is an odd number: 43\n",
      "Here is an odd number: 45\n",
      "Here is an odd number: 47\n",
      "Here is an odd number: 49\n"
     ]
    }
   ],
   "source": [
    "while True: # this loop continues until a valid odd number is entered \n",
    "    odd_num = input(\"Enter an odd number between 1 and 50: \") # the input is always taken in as a string value\n",
    "    \n",
    "    if not odd_num.isdigit(): # .isdigit() method checks if the string has all numbers or not\n",
    "        print(\"Invalid input. Please enter a valid numeric value.\")\n",
    "        continue\n",
    "\n",
    "    odd_num = int(odd_num) #converts the input string value to an integer\n",
    "    \n",
    "    if odd_num < 1 or odd_num > 50:\n",
    "        print(\"Number out of range. Please enter a number between 1 and 50.\")\n",
    "        continue\n",
    "    \n",
    "    if odd_num % 2 == 0:\n",
    "        print(\"Number is not odd. Please enter an odd number.\")\n",
    "        continue\n",
    "    \n",
    "    break  #while True: is an infinite loop that can execute indefinitely because the condition is always true \n",
    "           # unless there is a break statement or an exception occurs \n",
    "\n",
    "print(\"\\nNumber to skip is:\", odd_num)\n",
    "print()\n",
    "\n",
    "for num in range(1, 51, 2):\n",
    "    if num == odd_num:\n",
    "        print(\"Yikes! Skipping number:\", odd_num)\n",
    "        continue\n",
    "    print(\"Here is an odd number:\", num)\n"
   ]
  },
  {
   "cell_type": "markdown",
   "id": "9aa7e75b",
   "metadata": {},
   "source": [
    "### 3.Fizzbuzz\n",
    "\n",
    "One of the most common interview questions for entry-level programmers is the FizzBuzz test. Developed by Imran Ghory, the test is designed to test basic looping and conditional logic skills.\n",
    "\n",
    "Write a program that prints the numbers from 1 to 100.\n",
    "For multiples of three print \"Fizz\" instead of the number\n",
    "For the multiples of five print \"Buzz\".\n",
    "For numbers which are multiples of both three and five print \"FizzBuzz\".\n"
   ]
  },
  {
   "cell_type": "code",
   "execution_count": 14,
   "id": "2723b70d",
   "metadata": {},
   "outputs": [
    {
     "name": "stdout",
     "output_type": "stream",
     "text": [
      "1\n",
      "2\n",
      "Fizz\n",
      "4\n",
      "Buzz\n",
      "Fizz\n",
      "7\n",
      "8\n",
      "Fizz\n",
      "Buzz\n",
      "11\n",
      "Fizz\n",
      "13\n",
      "14\n",
      "FizzBuzz\n",
      "16\n",
      "17\n",
      "Fizz\n",
      "19\n",
      "Buzz\n",
      "Fizz\n",
      "22\n",
      "23\n",
      "Fizz\n",
      "Buzz\n",
      "26\n",
      "Fizz\n",
      "28\n",
      "29\n",
      "FizzBuzz\n",
      "31\n",
      "32\n",
      "Fizz\n",
      "34\n",
      "Buzz\n",
      "Fizz\n",
      "37\n",
      "38\n",
      "Fizz\n",
      "Buzz\n",
      "41\n",
      "Fizz\n",
      "43\n",
      "44\n",
      "FizzBuzz\n",
      "46\n",
      "47\n",
      "Fizz\n",
      "49\n",
      "Buzz\n",
      "Fizz\n",
      "52\n",
      "53\n",
      "Fizz\n",
      "Buzz\n",
      "56\n",
      "Fizz\n",
      "58\n",
      "59\n",
      "FizzBuzz\n",
      "61\n",
      "62\n",
      "Fizz\n",
      "64\n",
      "Buzz\n",
      "Fizz\n",
      "67\n",
      "68\n",
      "Fizz\n",
      "Buzz\n",
      "71\n",
      "Fizz\n",
      "73\n",
      "74\n",
      "FizzBuzz\n",
      "76\n",
      "77\n",
      "Fizz\n",
      "79\n",
      "Buzz\n",
      "Fizz\n",
      "82\n",
      "83\n",
      "Fizz\n",
      "Buzz\n",
      "86\n",
      "Fizz\n",
      "88\n",
      "89\n",
      "FizzBuzz\n",
      "91\n",
      "92\n",
      "Fizz\n",
      "94\n",
      "Buzz\n",
      "Fizz\n",
      "97\n",
      "98\n",
      "Fizz\n",
      "Buzz\n"
     ]
    }
   ],
   "source": [
    "x = 1\n",
    "a = []\n",
    "while (x <= 100):\n",
    "         a.append(x)\n",
    "         x = x + 1\n",
    "for i in a:\n",
    "    if (i % 5 == 0 and i % 3 == 0):\n",
    "        print (\"FizzBuzz\")\n",
    "    elif (i % 5 == 0):\n",
    "        print(\"Buzz\")\n",
    "    elif (i % 3 == 0):\n",
    "        print(\"Fizz\")\n",
    "    else:\n",
    "        print(i)"
   ]
  },
  {
   "cell_type": "markdown",
   "id": "133b8300",
   "metadata": {},
   "source": [
    "### 4. Display a table of powers.\n",
    "\n",
    "Prompt the user to enter an integer\n",
    "Display a table of squares and cubes from 1 to the value entered\n",
    "Ask if the user wants to continue\n",
    "Assume that the user will enter valid data\n",
    "Only continue if the user agrees to\n",
    "Example Output\n",
    "\n",
    "\n",
    "What number would you like to go up to? 5\n",
    "\n",
    "Here is your table!\n",
    "\n",
    "number | squared | cubed\n",
    "------ | ------- | -----\n",
    "1      | 1       | 1\n",
    "2      | 4       | 8\n",
    "3      | 9       | 27\n",
    "4      | 16      | 64\n",
    "5      | 25      | 125"
   ]
  },
  {
   "cell_type": "code",
   "execution_count": 16,
   "id": "1bd34ff6",
   "metadata": {},
   "outputs": [
    {
     "name": "stdout",
     "output_type": "stream",
     "text": [
      "What number would you like to go up to? 5\n",
      "\n",
      "Here is your table!\n",
      "\n",
      "number | squared | cubed\n",
      "------ | ------- | -----\n",
      "1      | 1       | 1    \n",
      "2      | 4       | 8    \n",
      "3      | 9       | 27   \n",
      "4      | 16      | 64   \n",
      "5      | 25      | 125  \n",
      "\n",
      "Do you want to continue? (y/n): y\n",
      "What number would you like to go up to? 3\n",
      "\n",
      "Here is your table!\n",
      "\n",
      "number | squared | cubed\n",
      "------ | ------- | -----\n",
      "1      | 1       | 1    \n",
      "2      | 4       | 8    \n",
      "3      | 9       | 27   \n",
      "\n",
      "Do you want to continue? (y/n): n\n"
     ]
    }
   ],
   "source": [
    "while True:\n",
    "    num = int(input(\"What number would you like to go up to? \"))\n",
    "\n",
    "    print(\"\\nHere is your table!\\n\")\n",
    "    print(\"number | squared | cubed\")\n",
    "    print(\"------ | ------- | -----\")\n",
    "\n",
    "    for i in range(1, num + 1):\n",
    "        square = i ** 2\n",
    "        cube = i ** 3\n",
    "        print(f\"{i:<6} | {square:<7} | {cube:<5}\")\n",
    "\n",
    "    print()\n",
    "\n",
    "    choice = input(\"Do you want to continue? (y/n): \")\n",
    "    if choice.lower() != 'y':\n",
    "        break"
   ]
  },
  {
   "cell_type": "markdown",
   "id": "3f4ffb63",
   "metadata": {},
   "source": [
    "### 5. Convert given number grades into letter grades.\n",
    "\n",
    "Prompt the user for a numerical grade from 0 to 100\n",
    "Display the corresponding letter grade\n",
    "Prompt the user to continue\n",
    "Assume that the user will enter valid integers for the grades\n",
    "The application should only continue if the user agrees to\n",
    "Grade Ranges:\n",
    "\n",
    "A : 100 - 88\n",
    "B : 87 - 80\n",
    "C : 79 - 67\n",
    "D : 66 - 60\n",
    "F : 59 - 0\n",
    "    "
   ]
  },
  {
   "cell_type": "code",
   "execution_count": 18,
   "id": "9cc1d0d3",
   "metadata": {},
   "outputs": [
    {
     "name": "stdout",
     "output_type": "stream",
     "text": [
      "Please enter a grade: 50\n",
      "50 is an F\n",
      "Would you like to continue? yes/no: yes\n",
      "Please enter a grade: 65\n",
      "65 is a D+\n",
      "Would you like to continue? yes/no: no\n"
     ]
    }
   ],
   "source": [
    "user_input = 'yes'\n",
    "while user_input.lower() == 'yes':\n",
    "    grade = int(input('Please enter a grade: '))\n",
    "    if grade >= 99 and grade <= 100:\n",
    "        print(f'{grade} is an A+')\n",
    "    elif grade >= 90:\n",
    "        print(f'{grade} is an A')\n",
    "    elif grade >= 88:\n",
    "        print(f'{grade} is an A-')\n",
    "    elif grade >= 86:\n",
    "        print(f'{grade} is a B+')\n",
    "    elif grade >= 82:\n",
    "        print(f'{grade} is a B')\n",
    "    elif grade >= 80:\n",
    "        print(f'{grade} is a B-')\n",
    "    elif grade >= 78:\n",
    "        print(f'{grade} is a C+')\n",
    "    elif grade >= 69:\n",
    "        print(f'{grade} is a C')\n",
    "    elif grade >= 67:\n",
    "        print(f'{grade} is a C-')\n",
    "    elif grade >= 65:\n",
    "        print(f'{grade} is a D+')\n",
    "    elif grade >= 62:\n",
    "        print(f'{grade} is a D')\n",
    "    elif grade >= 60:\n",
    "        print(f'{grade} is a D-')\n",
    "    elif grade <= 59:\n",
    "        print(f'{grade} is an F')\n",
    "    else:\n",
    "        print('Please enter a grade between 1-100')\n",
    "    user_input = input('Would you like to continue? yes/no: ')\n",
    "\n"
   ]
  },
  {
   "cell_type": "markdown",
   "id": "fe890bf4",
   "metadata": {},
   "source": [
    "###  6 . Create a list of dictionaries where each dictionary represents a book that you have read. Each dictionary in the list should have the keys title, author, and genre. Loop through the list and print out information about each book. Prompt the user to enter a genre, then loop through your books list and print out the titles of all the books in that genre.\n"
   ]
  },
  {
   "cell_type": "code",
   "execution_count": 15,
   "id": "5948457c",
   "metadata": {},
   "outputs": [
    {
     "name": "stdout",
     "output_type": "stream",
     "text": [
      "Please enter a genre: Artificial intelligence/Technology\n",
      "-----------------------------------------------\n",
      "title: The Singularity is Near\n",
      "author: Ray Kurzweil\n",
      "genre: Artificial intelligence/Technology\n",
      "-----------------------------------------------\n",
      "title: Rethinking Consciousness\n",
      "author: Michael Graziano\n",
      "genre: Artificial intelligence/Technology\n"
     ]
    }
   ],
   "source": [
    "books = [\n",
    "    {'title': 'The Singularity is Near','author': 'Ray Kurzweil','genre': 'Artificial intelligence/Technology'},\n",
    "    {'title': 'Rethinking Consciousness','author': 'Michael Graziano','genre': 'Artificial intelligence/Technology'},\n",
    "    {'title': 'The Righteous Mind','author': 'Jonathan Haidt','genre': 'Ethics'}\n",
    "]\n",
    "\n",
    "selected_genre = input('Please enter a genre: ')\n",
    "selected_books = list(filter(lambda book: book['genre'] == selected_genre, books))\n",
    "#selected_books = [book for book in books if book['genre'] == selected_genre]\n",
    "\n",
    "for book in selected_books:\n",
    "    print('-----------------------------------------------')\n",
    "    print('title: '  + book['title'])\n",
    "    print('author: ' + book['author'])\n",
    "    print('genre: '  + book['genre'])"
   ]
  },
  {
   "cell_type": "markdown",
   "id": "fefa5327",
   "metadata": {},
   "source": [
    "## Bonus Exercises\n",
    "\n",
    "### For your Power of Tables exercise, research python's format string specifiers to align the table"
   ]
  },
  {
   "cell_type": "code",
   "execution_count": 16,
   "id": "858c11a4",
   "metadata": {},
   "outputs": [
    {
     "name": "stdout",
     "output_type": "stream",
     "text": [
      "What number would you like to go up to? 3\n",
      "\n",
      "Here is your table!\n",
      "\n",
      "number | squared | cubed\n",
      "------ | ------- | -----\n",
      "1      | 1       | 1    \n",
      "2      | 4       | 8    \n",
      "3      | 9       | 27   \n",
      "\n",
      "Do you want to continue? (y/n): n\n"
     ]
    }
   ],
   "source": [
    "while True:\n",
    "    num = int(input(\"What number would you like to go up to? \"))\n",
    "\n",
    "    print(\"\\nHere is your table!\\n\")\n",
    "    print(\"{:<6} | {:<7} | {:<5}\".format(\"number\", \"squared\", \"cubed\"))\n",
    "    print(\"{:-<6} | {:-<7} | {:-<5}\".format(\"\", \"\", \"\"))\n",
    "\n",
    "    for i in range(1, num + 1):\n",
    "        square = i ** 2\n",
    "        cube = i ** 3\n",
    "        print(\"{:<6} | {:<7} | {:<5}\".format(i, square, cube))\n",
    "\n",
    "    print()\n",
    "\n",
    "    choice = input(\"Do you want to continue? (y/n): \")\n",
    "    if choice.lower() != 'y':\n",
    "        break"
   ]
  },
  {
   "cell_type": "markdown",
   "id": "5d15e358",
   "metadata": {},
   "source": [
    "### For your Number Grade to Letter Grade exercise, \n",
    "edit your grade ranges to include pluses and minuses (ex: 99-100 = A+)"
   ]
  },
  {
   "cell_type": "code",
   "execution_count": 26,
   "id": "4a2630dc",
   "metadata": {},
   "outputs": [
    {
     "name": "stdout",
     "output_type": "stream",
     "text": [
      "Enter a numerical grade from 0 to 100: 87\n",
      "Corresponding letter grade: B\n",
      "Do you want to continue? (y/n): n\n"
     ]
    }
   ],
   "source": [
    "while True:\n",
    "    numerical_grade = int(input(\"Enter a numerical grade from 0 to 100: \"))\n",
    "\n",
    "    if numerical_grade >= 98:\n",
    "        letter_grade = 'A+'\n",
    "    elif numerical_grade >= 93:\n",
    "        letter_grade = 'A'\n",
    "    elif numerical_grade >= 90:\n",
    "        letter_grade = 'A-'\n",
    "    elif numerical_grade >= 88:\n",
    "        letter_grade = 'B+'\n",
    "    elif numerical_grade >= 83:\n",
    "        letter_grade = 'B'\n",
    "    elif numerical_grade >= 80:\n",
    "        letter_grade = 'B-'\n",
    "    elif numerical_grade >= 78:\n",
    "        letter_grade = 'C+'\n",
    "    elif numerical_grade >= 73:\n",
    "        letter_grade = 'C'\n",
    "    elif numerical_grade >= 70:\n",
    "        letter_grade = 'C-'\n",
    "    elif numerical_grade >= 68:\n",
    "        letter_grade = 'D+'\n",
    "    elif numerical_grade >= 63:\n",
    "        letter_grade = 'D'\n",
    "    elif numerical_grade >= 60:\n",
    "        letter_grade = 'D-'\n",
    "    else:\n",
    "        letter_grade = 'F'\n",
    "\n",
    "    print(\"Corresponding letter grade:\", letter_grade)\n",
    "\n",
    "    choice = input(\"Do you want to continue? (y/n): \")\n",
    "    if choice.lower() != 'y':\n",
    "        break\n",
    "\n",
    "        "
   ]
  },
  {
   "cell_type": "markdown",
   "id": "a0ba7c54",
   "metadata": {},
   "source": [
    "### For practicing with list comprehensions, work through 17 List Comprehension Exercises"
   ]
  },
  {
   "cell_type": "markdown",
   "id": "f0d47960",
   "metadata": {},
   "source": [
    "### Exercise 1 - rewrite the above example code using list comprehension syntax. \n",
    "Make a variable named uppercased_fruits to hold the output of the list comprehension.\n",
    "Output should be ['MANGO', 'KIWI', etc...]\n"
   ]
  },
  {
   "cell_type": "markdown",
   "id": "e9874700",
   "metadata": {},
   "source": [
    "#### Exercise 1 - rewrite the above example code using list comprehension syntax. \n",
    "Make a variable named uppercased_fruits to hold the output of the list comprehension. \n",
    "Output should be ['MANGO', 'KIWI', etc...]\n"
   ]
  },
  {
   "cell_type": "code",
   "execution_count": 19,
   "id": "8c67580d",
   "metadata": {},
   "outputs": [
    {
     "name": "stdout",
     "output_type": "stream",
     "text": [
      "['MANGO', 'KIWI', 'BANANA', 'APPLE', 'GRAPE']\n"
     ]
    }
   ],
   "source": [
    "fruits = ['mango', 'kiwi', 'banana', 'apple', 'grape']\n",
    "\n",
    "uppercased_fruits = [fruit.upper() for fruit in fruits]\n",
    "\n",
    "print(uppercased_fruits)"
   ]
  },
  {
   "cell_type": "markdown",
   "id": "0a2a2c12",
   "metadata": {},
   "source": [
    "#### Exercise 2 - create a variable named capitalized_fruits and use list comprehension syntax \n",
    "to produce output like ['Mango', 'Kiwi', 'Strawberry', etc...]\n"
   ]
  },
  {
   "cell_type": "code",
   "execution_count": 20,
   "id": "a44a39f3",
   "metadata": {},
   "outputs": [
    {
     "name": "stdout",
     "output_type": "stream",
     "text": [
      "['Mango', 'Kiwi', 'Strawberry', 'Banana', 'Apple', 'Grape']\n"
     ]
    }
   ],
   "source": [
    "fruits = ['mango', 'kiwi', 'strawberry', 'banana', 'apple', 'grape']\n",
    "\n",
    "capitalized_fruits = [fruit.capitalize() for fruit in fruits]\n",
    "\n",
    "print(capitalized_fruits)"
   ]
  },
  {
   "cell_type": "markdown",
   "id": "27444030",
   "metadata": {},
   "source": [
    "#### Exercise 3 - Use a list comprehension to make a variable named fruits_with_more_than_two_vowels.\n",
    "Hint: You'll need a way to check if something is a vowel.\n"
   ]
  },
  {
   "cell_type": "code",
   "execution_count": 26,
   "id": "9cb50295",
   "metadata": {},
   "outputs": [
    {
     "name": "stdout",
     "output_type": "stream",
     "text": [
      "['mango', 'kiwi', 'strawberry', 'banana', 'apple', 'grape']\n"
     ]
    }
   ],
   "source": [
    "fruits = ['mango', 'kiwi', 'strawberry', 'banana', 'apple', 'grape']\n",
    "vowels = ['a', 'e', 'i', 'o', 'u']\n",
    "\n",
    "fruits_with_more_than_two_vowels = [fruit for fruit in fruits if sum(1 for char in fruit if char.lower() in vowels) >= 2]\n",
    "\n",
    "print(fruits_with_more_than_two_vowels)"
   ]
  },
  {
   "cell_type": "markdown",
   "id": "0b1c067a",
   "metadata": {},
   "source": [
    "#### Exercise 4 - make a variable named fruits_with_only_two_vowels. The result should be ['mango', 'kiwi', 'strawberry']\n"
   ]
  },
  {
   "cell_type": "code",
   "execution_count": 34,
   "id": "21b0e7c0",
   "metadata": {},
   "outputs": [
    {
     "name": "stdout",
     "output_type": "stream",
     "text": [
      "['mango', 'kiwi', 'strawberry']\n"
     ]
    }
   ],
   "source": [
    "fruits = ['mango', 'kiwi', 'strawberry', 'banana']\n",
    "vowels = ['a', 'e', 'i', 'o', 'u']\n",
    "\n",
    "fruits_with_only_two_vowels = [fruit for fruit in fruits if sum(1 for char in fruit if char.lower() in vowels) == 2]\n",
    "\n",
    "print(fruits_with_only_two_vowels)"
   ]
  },
  {
   "cell_type": "markdown",
   "id": "85e99bf1",
   "metadata": {},
   "source": [
    "#### Exercise 5 - make a list that contains each fruit with more than 5 characters"
   ]
  },
  {
   "cell_type": "code",
   "execution_count": 35,
   "id": "1d2111b9",
   "metadata": {},
   "outputs": [
    {
     "name": "stdout",
     "output_type": "stream",
     "text": [
      "['strawberry', 'banana']\n"
     ]
    }
   ],
   "source": [
    "fruits = ['mango', 'kiwi', 'strawberry', 'banana', 'apple', 'grape']\n",
    "\n",
    "fruits_with_more_than_5_chars = [fruit for fruit in fruits if len(fruit) > 5]\n",
    "\n",
    "print(fruits_with_more_than_5_chars)"
   ]
  },
  {
   "cell_type": "markdown",
   "id": "30ac5d50",
   "metadata": {},
   "source": [
    "#### Exercise 6 - make a list that contains each fruit with exactly 5 characters"
   ]
  },
  {
   "cell_type": "code",
   "execution_count": 36,
   "id": "14e8df92",
   "metadata": {},
   "outputs": [
    {
     "name": "stdout",
     "output_type": "stream",
     "text": [
      "['mango', 'straw', 'apple', 'grape']\n"
     ]
    }
   ],
   "source": [
    "fruits = ['mango', 'kiwi', 'straw', 'banana', 'apple', 'grape']\n",
    "\n",
    "fruits_with_5_chars = [fruit for fruit in fruits if len(fruit) == 5]\n",
    "\n",
    "print(fruits_with_5_chars)"
   ]
  },
  {
   "cell_type": "markdown",
   "id": "4175730c",
   "metadata": {},
   "source": [
    "#### Exercise 7 - Make a list that contains fruits that have less than 5 characters\n"
   ]
  },
  {
   "cell_type": "code",
   "execution_count": 37,
   "id": "6a2ab859",
   "metadata": {},
   "outputs": [
    {
     "name": "stdout",
     "output_type": "stream",
     "text": [
      "['kiwi']\n"
     ]
    }
   ],
   "source": [
    "fruits = ['mango', 'kiwi', 'straw', 'banana', 'apple', 'grape']\n",
    "\n",
    "fruits_with_less_than_5_chars = [fruit for fruit in fruits if len(fruit) < 5]\n",
    "\n",
    "print(fruits_with_less_than_5_chars)"
   ]
  },
  {
   "cell_type": "markdown",
   "id": "56f67d37",
   "metadata": {},
   "source": [
    " #### Exercise 8 - Make a list containing the number of characters in each fruit. Output would be [5, 4, 10, etc... ]"
   ]
  },
  {
   "cell_type": "code",
   "execution_count": 38,
   "id": "37f0fc09",
   "metadata": {},
   "outputs": [
    {
     "name": "stdout",
     "output_type": "stream",
     "text": [
      "[5, 4, 10, 6, 5, 5]\n"
     ]
    }
   ],
   "source": [
    "fruits = ['mango', 'kiwi', 'strawberry', 'banana', 'apple', 'grape']\n",
    "\n",
    "fruit_lengths = [len(fruit) for fruit in fruits]\n",
    "\n",
    "print(fruit_lengths)"
   ]
  },
  {
   "cell_type": "markdown",
   "id": "5dbc33d5",
   "metadata": {},
   "source": [
    "#### Exercise 9 - Make a variable named fruits_with_letter_a that contains a list of only the fruits that contain the letter \"a\"\n"
   ]
  },
  {
   "cell_type": "code",
   "execution_count": 39,
   "id": "c0dc42ac",
   "metadata": {},
   "outputs": [
    {
     "name": "stdout",
     "output_type": "stream",
     "text": [
      "['mango', 'strawberry', 'banana', 'apple', 'grape']\n"
     ]
    }
   ],
   "source": [
    "fruits = ['mango', 'kiwi', 'strawberry', 'banana', 'apple', 'grape']\n",
    "\n",
    "fruits_with_letter_a = [fruit for fruit in fruits if 'a' in fruit]\n",
    "\n",
    "print(fruits_with_letter_a)"
   ]
  },
  {
   "cell_type": "markdown",
   "id": "338a4924",
   "metadata": {},
   "source": [
    "#### Exercise 10 - Make a variable named even_numbers that holds only the even numbers \n"
   ]
  },
  {
   "cell_type": "code",
   "execution_count": 40,
   "id": "06cc9b88",
   "metadata": {},
   "outputs": [
    {
     "name": "stdout",
     "output_type": "stream",
     "text": [
      "[2, 4, 6, 8, 10]\n"
     ]
    }
   ],
   "source": [
    "numbers = [1, 2, 3, 4, 5, 6, 7, 8, 9, 10]\n",
    "\n",
    "even_numbers = [num for num in numbers if num % 2 == 0]\n",
    "\n",
    "print(even_numbers)"
   ]
  },
  {
   "cell_type": "markdown",
   "id": "372816e0",
   "metadata": {},
   "source": [
    "#### Exercise 11 - Make a variable named odd_numbers that holds only the odd numbers\n"
   ]
  },
  {
   "cell_type": "code",
   "execution_count": 41,
   "id": "6b22a000",
   "metadata": {},
   "outputs": [
    {
     "name": "stdout",
     "output_type": "stream",
     "text": [
      "[1, 3, 5, 7, 9]\n"
     ]
    }
   ],
   "source": [
    "numbers = [1, 2, 3, 4, 5, 6, 7, 8, 9, 10]\n",
    "\n",
    "odd_numbers = [num for num in numbers if num % 2 != 0]\n",
    "\n",
    "print(odd_numbers)"
   ]
  },
  {
   "cell_type": "markdown",
   "id": "311ebf9e",
   "metadata": {},
   "source": [
    "#### Exercise 12 -Make a variable named positive_numbers that holds only the positive numbers\n"
   ]
  },
  {
   "cell_type": "code",
   "execution_count": 42,
   "id": "d3c1582b",
   "metadata": {},
   "outputs": [
    {
     "name": "stdout",
     "output_type": "stream",
     "text": [
      "[1, 2, 3, 4, 5]\n"
     ]
    }
   ],
   "source": [
    "numbers = [-2, -1, 0, 1, 2, 3, 4, 5]\n",
    "\n",
    "positive_numbers = [num for num in numbers if num > 0]\n",
    "\n",
    "print(positive_numbers)"
   ]
  },
  {
   "cell_type": "markdown",
   "id": "e912cb73",
   "metadata": {},
   "source": [
    "#### Exercise 13 -Make a variable named negative_numbers that holds only the negative numbers\n"
   ]
  },
  {
   "cell_type": "code",
   "execution_count": 43,
   "id": "be103c16",
   "metadata": {},
   "outputs": [
    {
     "name": "stdout",
     "output_type": "stream",
     "text": [
      "[-2, -1]\n"
     ]
    }
   ],
   "source": [
    "numbers = [-2, -1, 0, 1, 2, 3, 4, 5]\n",
    "\n",
    "negative_numbers = [num for num in numbers if num < 0]\n",
    "\n",
    "print(negative_numbers)"
   ]
  },
  {
   "cell_type": "markdown",
   "id": "134a45c3",
   "metadata": {},
   "source": [
    "#### Exercise 14 -use a list comprehension w/ a conditional in order to produce a list of numbers with 2 or more numerals\n"
   ]
  },
  {
   "cell_type": "code",
   "execution_count": 44,
   "id": "591c9132",
   "metadata": {},
   "outputs": [
    {
     "name": "stdout",
     "output_type": "stream",
     "text": [
      "[10, 100, 25, 500]\n"
     ]
    }
   ],
   "source": [
    "numbers = [10, 5, 100, 3, 25, 500, 1]\n",
    "\n",
    "numbers_with_two_or_more_numerals = [num for num in numbers if abs(num) >= 10]\n",
    "\n",
    "print(numbers_with_two_or_more_numerals)"
   ]
  },
  {
   "cell_type": "markdown",
   "id": "28f74285",
   "metadata": {},
   "source": [
    "#### Exercise 15 - Make a variable named numbers_squared that contains the numbers list with each element squared. \n",
    "Output is [4, 9, 16, etc...]\n"
   ]
  },
  {
   "cell_type": "code",
   "execution_count": 45,
   "id": "edbd117c",
   "metadata": {},
   "outputs": [
    {
     "name": "stdout",
     "output_type": "stream",
     "text": [
      "[4, 9, 16, 25]\n"
     ]
    }
   ],
   "source": [
    "numbers = [2, 3, 4, 5]\n",
    "\n",
    "numbers_squared = [num ** 2 for num in numbers]\n",
    "\n",
    "print(numbers_squared)"
   ]
  },
  {
   "cell_type": "markdown",
   "id": "8bc846fc",
   "metadata": {},
   "source": [
    "#### Exercise 16 - Make a variable named odd_negative_numbers that contains only the numbers that are\n",
    "both odd and negative.\n"
   ]
  },
  {
   "cell_type": "code",
   "execution_count": 35,
   "id": "c35d2a11",
   "metadata": {},
   "outputs": [
    {
     "name": "stdout",
     "output_type": "stream",
     "text": [
      "[-3, -1]\n"
     ]
    }
   ],
   "source": [
    "numbers = [-3, -2, -1, 0, 1, 2, 3]\n",
    "\n",
    "odd_negative_numbers = [num for num in numbers if num < 0 and num % 2 != 0]\n",
    "\n",
    "print(odd_negative_numbers)"
   ]
  },
  {
   "cell_type": "markdown",
   "id": "0b00580a",
   "metadata": {},
   "source": [
    "#### Exercise 17 - Make a variable named numbers_plus_5. In it, return a list containing each number plus five. \n"
   ]
  },
  {
   "cell_type": "code",
   "execution_count": null,
   "id": "73a29223",
   "metadata": {},
   "outputs": [],
   "source": [
    "numbers = [1, 2, 3, 4, 5]\n",
    "\n",
    "numbers_plus_5 = [num + 5 for num in numbers]\n",
    "\n",
    "print(numbers_plus_5)"
   ]
  },
  {
   "cell_type": "markdown",
   "id": "f8fa25de",
   "metadata": {},
   "source": [
    "#### BONUS Make a variable named \"primes\" that is a list containing the prime numbers in the numbers list. *Hint* you may want to make or find a helper function that determines if a given number is prime or not."
   ]
  },
  {
   "cell_type": "code",
   "execution_count": 46,
   "id": "c558b799",
   "metadata": {},
   "outputs": [
    {
     "name": "stdout",
     "output_type": "stream",
     "text": [
      "[2, 3, 5, 7, 11, 13, 17, 19]\n"
     ]
    }
   ],
   "source": [
    "\n",
    "numbers = [2, 3, 4, 5, 6, 7, 8, 9, 10, 11, 12, 13, 14, 15, 16, 17, 18, 19, 20]\n",
    "\n",
    "def is_prime(num):\n",
    "    if num < 2:\n",
    "        return False\n",
    "    for i in range(2, int(num**0.5) + 1):\n",
    "        if num % i == 0:\n",
    "            return False\n",
    "    return True\n",
    "\n",
    "primes = [num for num in numbers if is_prime(num)]\n",
    "\n",
    "print(primes)"
   ]
  },
  {
   "cell_type": "markdown",
   "id": "d9e217fe",
   "metadata": {},
   "source": [
    "## Exercises 20 Python Data Structure Manipulation Exercises"
   ]
  },
  {
   "cell_type": "markdown",
   "id": "a7d73fb6",
   "metadata": {},
   "source": [
    "### For even more practice with all your Python tools together, work through 20 Python Data Structure Manipulation. The following questions reference the students data structure below. Write the python code to answer the following questions:"
   ]
  },
  {
   "cell_type": "code",
   "execution_count": null,
   "id": "8e313eb6",
   "metadata": {},
   "outputs": [],
   "source": [
    "How many students are there?\n"
   ]
  },
  {
   "cell_type": "code",
   "execution_count": 47,
   "id": "e62fcb2e",
   "metadata": {},
   "outputs": [
    {
     "name": "stdout",
     "output_type": "stream",
     "text": [
      "Number of students: 3\n"
     ]
    }
   ],
   "source": [
    "students = [\n",
    "    {'name': 'Alice', 'age': 20, 'grade': 'A'}, # dictionary representing student information for Alice which \n",
    "                                                # contains three key-value pairs\n",
    "    {'name': 'Bob', 'age': 19, 'grade': 'B'},\n",
    "    {'name': 'Charlie', 'age': 21, 'grade': 'C'},\n",
    " \n",
    "]\n",
    "\n",
    "num_students = len(students)\n",
    "print(\"Number of students:\", num_students)\n"
   ]
  },
  {
   "cell_type": "markdown",
   "id": "c8ac0728",
   "metadata": {},
   "source": [
    "How many students prefer light coffee? For each type of coffee roast?"
   ]
  },
  {
   "cell_type": "code",
   "execution_count": 49,
   "id": "173f15d4",
   "metadata": {},
   "outputs": [
    {
     "name": "stdout",
     "output_type": "stream",
     "text": [
      "Number of students who prefer each type of coffee roast:\n",
      "light : 3\n",
      "medium : 2\n",
      "dark : 1\n"
     ]
    }
   ],
   "source": [
    "students = [\n",
    "    {'name': 'Alice', 'coffee_roast': 'light'},\n",
    "    {'name': 'Bob', 'coffee_roast': 'dark'},\n",
    "    {'name': 'Charlie', 'coffee_roast': 'medium'},\n",
    "    {'name': 'David', 'coffee_roast': 'light'},\n",
    "    {'name': 'Eve', 'coffee_roast': 'light'},\n",
    "    {'name': 'Frank', 'coffee_roast': 'medium'},\n",
    "  \n",
    "]\n",
    "\n",
    "coffee_roast_counts = {\n",
    "    'light': 0,\n",
    "    'medium': 0,\n",
    "    'dark': 0\n",
    "}\n",
    "\n",
    "for student in students:\n",
    "    roast_preference = student['coffee_roast']\n",
    "    coffee_roast_counts[roast_preference] += 1\n",
    "\n",
    "print(\"Number of students who prefer each type of coffee roast:\")\n",
    "for roast, count in coffee_roast_counts.items():\n",
    "    print(roast, \":\", count)\n"
   ]
  },
  {
   "cell_type": "code",
   "execution_count": null,
   "id": "d275ff42",
   "metadata": {},
   "outputs": [],
   "source": []
  },
  {
   "cell_type": "code",
   "execution_count": null,
   "id": "468c4458",
   "metadata": {},
   "outputs": [],
   "source": []
  },
  {
   "cell_type": "code",
   "execution_count": null,
   "id": "5010f2d8",
   "metadata": {},
   "outputs": [],
   "source": []
  }
 ],
 "metadata": {
  "kernelspec": {
   "display_name": "Python 3 (ipykernel)",
   "language": "python",
   "name": "python3"
  },
  "language_info": {
   "codemirror_mode": {
    "name": "ipython",
    "version": 3
   },
   "file_extension": ".py",
   "mimetype": "text/x-python",
   "name": "python",
   "nbconvert_exporter": "python",
   "pygments_lexer": "ipython3",
   "version": "3.11.3"
  }
 },
 "nbformat": 4,
 "nbformat_minor": 5
}
