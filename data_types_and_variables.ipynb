{
 "cells": [
  {
   "cell_type": "code",
   "execution_count": 1,
   "id": "ca2363c3",
   "metadata": {},
   "outputs": [],
   "source": [
    "# Data Types, Operators, and Variables"
   ]
  },
  {
   "cell_type": "markdown",
   "id": "d342d68f",
   "metadata": {},
   "source": [
    "### 1 Create a Python script file named data_types_and_variables.py or data_types_and_variables.ipynb."
   ]
  },
  {
   "cell_type": "code",
   "execution_count": 3,
   "id": "41940759",
   "metadata": {},
   "outputs": [],
   "source": [
    "#Identify the data type of the following values:"
   ]
  },
  {
   "cell_type": "code",
   "execution_count": 4,
   "id": "5311f799",
   "metadata": {},
   "outputs": [
    {
     "data": {
      "text/plain": [
       "float"
      ]
     },
     "execution_count": 4,
     "metadata": {},
     "output_type": "execute_result"
    }
   ],
   "source": [
    "type(99.9)"
   ]
  },
  {
   "cell_type": "code",
   "execution_count": 5,
   "id": "db0a8e73",
   "metadata": {},
   "outputs": [
    {
     "data": {
      "text/plain": [
       "str"
      ]
     },
     "execution_count": 5,
     "metadata": {},
     "output_type": "execute_result"
    }
   ],
   "source": [
    "type(\"False\")"
   ]
  },
  {
   "cell_type": "code",
   "execution_count": 6,
   "id": "dc6db8fc",
   "metadata": {},
   "outputs": [
    {
     "data": {
      "text/plain": [
       "bool"
      ]
     },
     "execution_count": 6,
     "metadata": {},
     "output_type": "execute_result"
    }
   ],
   "source": [
    "type(False)"
   ]
  },
  {
   "cell_type": "code",
   "execution_count": 4,
   "id": "8d527d91",
   "metadata": {},
   "outputs": [
    {
     "data": {
      "text/plain": [
       "str"
      ]
     },
     "execution_count": 4,
     "metadata": {},
     "output_type": "execute_result"
    }
   ],
   "source": [
    "type('0')"
   ]
  },
  {
   "cell_type": "code",
   "execution_count": 5,
   "id": "e5a56b8a",
   "metadata": {},
   "outputs": [
    {
     "data": {
      "text/plain": [
       "int"
      ]
     },
     "execution_count": 5,
     "metadata": {},
     "output_type": "execute_result"
    }
   ],
   "source": [
    "type(0)"
   ]
  },
  {
   "cell_type": "code",
   "execution_count": 6,
   "id": "ff8209e2",
   "metadata": {},
   "outputs": [
    {
     "data": {
      "text/plain": [
       "bool"
      ]
     },
     "execution_count": 6,
     "metadata": {},
     "output_type": "execute_result"
    }
   ],
   "source": [
    "type(True)"
   ]
  },
  {
   "cell_type": "code",
   "execution_count": 7,
   "id": "f441194a",
   "metadata": {},
   "outputs": [
    {
     "data": {
      "text/plain": [
       "str"
      ]
     },
     "execution_count": 7,
     "metadata": {},
     "output_type": "execute_result"
    }
   ],
   "source": [
    "type('True')"
   ]
  },
  {
   "cell_type": "code",
   "execution_count": 8,
   "id": "85b37c9d",
   "metadata": {},
   "outputs": [
    {
     "data": {
      "text/plain": [
       "list"
      ]
     },
     "execution_count": 8,
     "metadata": {},
     "output_type": "execute_result"
    }
   ],
   "source": [
    "type([{}])"
   ]
  },
  {
   "cell_type": "code",
   "execution_count": 9,
   "id": "bcd5f566",
   "metadata": {},
   "outputs": [
    {
     "data": {
      "text/plain": [
       "dict"
      ]
     },
     "execution_count": 9,
     "metadata": {},
     "output_type": "execute_result"
    }
   ],
   "source": [
    "type({'a': []})"
   ]
  },
  {
   "cell_type": "markdown",
   "id": "c72a25d4",
   "metadata": {},
   "source": [
    "### 2  What data type would best represent the following?\n"
   ]
  },
  {
   "cell_type": "code",
   "execution_count": 16,
   "id": "957c9e81",
   "metadata": {},
   "outputs": [],
   "source": [
    "# A term or phrase typed into a search box\n",
    "# ANSWER: string"
   ]
  },
  {
   "cell_type": "code",
   "execution_count": 11,
   "id": "8f6717d0",
   "metadata": {},
   "outputs": [],
   "source": [
    "# Whether or not a user is logged in\n",
    "# a boolean data type is used to represent the state of whether a user is logged in or not"
   ]
  },
  {
   "cell_type": "code",
   "execution_count": 12,
   "id": "a9b3de08",
   "metadata": {},
   "outputs": [],
   "source": [
    "# A discount amount to apply to a user's shopping cart\n",
    "# a numeric data type, such as a floating-point number or a decimal, is used to represent discount amounts."
   ]
  },
  {
   "cell_type": "code",
   "execution_count": 13,
   "id": "dd2244dd",
   "metadata": {},
   "outputs": [],
   "source": [
    "#Whether or not a coupon code is valid\n",
    "# a boolean data type is used to check whether or not a coupon code is valid"
   ]
  },
  {
   "cell_type": "code",
   "execution_count": 14,
   "id": "b7edf4ff",
   "metadata": {},
   "outputs": [],
   "source": [
    "#An email address typed into a registration form\n",
    "#string"
   ]
  },
  {
   "cell_type": "code",
   "execution_count": 15,
   "id": "77d02450",
   "metadata": {},
   "outputs": [],
   "source": [
    "#The price of a product\n",
    "# a numeric data type, such as a floating-point number or a decimal, is used to represent discount amounts."
   ]
  },
  {
   "cell_type": "code",
   "execution_count": 16,
   "id": "d236abff",
   "metadata": {},
   "outputs": [],
   "source": [
    "#The email addresses collected from a registration form\n",
    "#List of Strings,CSV or JSON File,database"
   ]
  },
  {
   "cell_type": "code",
   "execution_count": 17,
   "id": "4f96e1a9",
   "metadata": {},
   "outputs": [],
   "source": [
    "#Information about applicants to Codeup's data science program\n",
    "#List of Strings,CSV or JSON File,database"
   ]
  },
  {
   "cell_type": "markdown",
   "id": "b0344650",
   "metadata": {},
   "source": [
    "### 3 For each of the following code blocks:\n",
    "\n",
    "Read the expression and predict the evaluated results\n",
    "\n",
    "Execute the expression in a Python REPL."
   ]
  },
  {
   "cell_type": "code",
   "execution_count": 26,
   "id": "93796429",
   "metadata": {},
   "outputs": [
    {
     "ename": "TypeError",
     "evalue": "can only concatenate str (not \"int\") to str",
     "output_type": "error",
     "traceback": [
      "\u001b[0;31m---------------------------------------------------------------------------\u001b[0m",
      "\u001b[0;31mTypeError\u001b[0m                                 Traceback (most recent call last)",
      "Cell \u001b[0;32mIn[26], line 1\u001b[0m\n\u001b[0;32m----> 1\u001b[0m \u001b[38;5;124m'\u001b[39m\u001b[38;5;124m1\u001b[39m\u001b[38;5;124m'\u001b[39m \u001b[38;5;241m+\u001b[39m \u001b[38;5;241m2\u001b[39m\n",
      "\u001b[0;31mTypeError\u001b[0m: can only concatenate str (not \"int\") to str"
     ]
    }
   ],
   "source": [
    "'1' + 2\n",
    "\n",
    "#this can't work because it's a string plus integer"
   ]
  },
  {
   "cell_type": "code",
   "execution_count": 24,
   "id": "6e183c2e",
   "metadata": {},
   "outputs": [
    {
     "data": {
      "text/plain": [
       "2"
      ]
     },
     "execution_count": 24,
     "metadata": {},
     "output_type": "execute_result"
    }
   ],
   "source": [
    "6 % 4\n",
    "#remainder is 2"
   ]
  },
  {
   "cell_type": "code",
   "execution_count": 25,
   "id": "28527fa9",
   "metadata": {},
   "outputs": [
    {
     "data": {
      "text/plain": [
       "int"
      ]
     },
     "execution_count": 25,
     "metadata": {},
     "output_type": "execute_result"
    }
   ],
   "source": [
    "type(6 % 4)\n",
    "#type of the dividend divisor  an integer"
   ]
  },
  {
   "cell_type": "code",
   "execution_count": 27,
   "id": "90467d7f",
   "metadata": {},
   "outputs": [
    {
     "data": {
      "text/plain": [
       "type"
      ]
     },
     "execution_count": 27,
     "metadata": {},
     "output_type": "execute_result"
    }
   ],
   "source": [
    "type(type(6 % 4))\n",
    "# the outer type() function retrieves the type of the result from the inner type() function,\n",
    "# which is the type of the integer object representing the result of the modulo operation (6 % 4)."
   ]
  },
  {
   "cell_type": "code",
   "execution_count": 29,
   "id": "d8b59b77",
   "metadata": {},
   "outputs": [
    {
     "ename": "TypeError",
     "evalue": "can only concatenate str (not \"int\") to str",
     "output_type": "error",
     "traceback": [
      "\u001b[0;31m---------------------------------------------------------------------------\u001b[0m",
      "\u001b[0;31mTypeError\u001b[0m                                 Traceback (most recent call last)",
      "Cell \u001b[0;32mIn[29], line 1\u001b[0m\n\u001b[0;32m----> 1\u001b[0m \u001b[38;5;124m'\u001b[39m\u001b[38;5;124m3 + 4 is \u001b[39m\u001b[38;5;124m'\u001b[39m \u001b[38;5;241m+\u001b[39m \u001b[38;5;241m3\u001b[39m \u001b[38;5;241m+\u001b[39m \u001b[38;5;241m4\u001b[39m\n",
      "\u001b[0;31mTypeError\u001b[0m: can only concatenate str (not \"int\") to str"
     ]
    }
   ],
   "source": [
    "'3 + 4 is ' + 3 + 4\n",
    "#Can't concatenate strings and integers"
   ]
  },
  {
   "cell_type": "code",
   "execution_count": 30,
   "id": "e117f426",
   "metadata": {},
   "outputs": [
    {
     "data": {
      "text/plain": [
       "False"
      ]
     },
     "execution_count": 30,
     "metadata": {},
     "output_type": "execute_result"
    }
   ],
   "source": [
    "0 < 0\n"
   ]
  },
  {
   "cell_type": "code",
   "execution_count": 31,
   "id": "2b74a61b",
   "metadata": {},
   "outputs": [
    {
     "data": {
      "text/plain": [
       "False"
      ]
     },
     "execution_count": 31,
     "metadata": {},
     "output_type": "execute_result"
    }
   ],
   "source": [
    "'False' == False\n",
    "# the == operator is used for equality comparison.\n",
    "#Python checks if the values are equal, taking into account their types.\n",
    "# 'False' is a string\n",
    "#False is a boolean value \n",
    "#Since a string and a boolean value have different types and values\n",
    "#Hence,  'False' == False evaluates to False"
   ]
  },
  {
   "cell_type": "code",
   "execution_count": 33,
   "id": "388d1081",
   "metadata": {},
   "outputs": [
    {
     "data": {
      "text/plain": [
       "False"
      ]
     },
     "execution_count": 33,
     "metadata": {},
     "output_type": "execute_result"
    }
   ],
   "source": [
    "True == 'True'\n",
    "# the == operator is used for equality comparison.\n",
    "#Python checks if the values are equal, taking into account their types.\n",
    "# 'True' is a string\n",
    "#True is a boolean value \n",
    "#Since a string and a boolean value have different types and values\n",
    "#Hence,  'True' == True evaluates to False"
   ]
  },
  {
   "cell_type": "code",
   "execution_count": 35,
   "id": "8bb15b23",
   "metadata": {},
   "outputs": [
    {
     "data": {
      "text/plain": [
       "True"
      ]
     },
     "execution_count": 35,
     "metadata": {},
     "output_type": "execute_result"
    }
   ],
   "source": [
    "5 >= -5\n",
    "# 5 is greater than 5 . so answer is true."
   ]
  },
  {
   "cell_type": "code",
   "execution_count": 37,
   "id": "2cabfb3a",
   "metadata": {},
   "outputs": [
    {
     "data": {
      "text/plain": [
       "True"
      ]
     },
     "execution_count": 37,
     "metadata": {},
     "output_type": "execute_result"
    }
   ],
   "source": [
    "True or \"42\"\n",
    "\n",
    "# a logical OR operation between two operands\n",
    "#It returns True if at least one of the operands is True, and False if both operands are False.\n",
    "#the first operand is the boolean value True\n",
    "#The second operand is the string \"42\" a true value because it is a non-empty string.\n",
    "#Since the or operator only needs one of the operands to be True to evaluate to True,\n",
    "#the expression True or \"42\" will result in True.\n"
   ]
  },
  {
   "cell_type": "code",
   "execution_count": 39,
   "id": "1523ae00",
   "metadata": {},
   "outputs": [
    {
     "data": {
      "text/plain": [
       "1"
      ]
     },
     "execution_count": 39,
     "metadata": {},
     "output_type": "execute_result"
    }
   ],
   "source": [
    "6 % 5\n",
    "#remainder"
   ]
  },
  {
   "cell_type": "code",
   "execution_count": 41,
   "id": "668f875d",
   "metadata": {},
   "outputs": [
    {
     "data": {
      "text/plain": [
       "False"
      ]
     },
     "execution_count": 41,
     "metadata": {},
     "output_type": "execute_result"
    }
   ],
   "source": [
    "5 < 4 and 1 == 1\n",
    "# a logical AND operation between two operands\n",
    "#It returns FALSE if at least one of the operands is FALSE, and TRUE if both operands are TRUE.\n",
    "#the first operand is  FALSE\n",
    "#The second operand is TRUE - as it's an equality comparison OF 1 to itself .\n",
    "#Since the AND operator  needs both of the operands to be True to evaluate to True,\n",
    "#the expression is FALSE."
   ]
  },
  {
   "cell_type": "code",
   "execution_count": 43,
   "id": "188ecbdc",
   "metadata": {},
   "outputs": [
    {
     "data": {
      "text/plain": [
       "False"
      ]
     },
     "execution_count": 43,
     "metadata": {},
     "output_type": "execute_result"
    }
   ],
   "source": [
    "'codeup' == 'codeup' and 'codeup' == 'Codeup'\n",
    "# a logical AND operation between two operands\n",
    "#It returns FALSE if at least one of the operands is FALSE, and TRUE if both operands are TRUE.\n",
    "#the first operand is  TRUE\n",
    "#The second operand is FALSE - as 'codeup' == 'Codeup' DOESN'T MATCH\n",
    "#Since the or operator  needs both of the operands to be True to evaluate to True,\n",
    "#the expression is FALSE."
   ]
  },
  {
   "cell_type": "code",
   "execution_count": 46,
   "id": "3fa5ab86",
   "metadata": {},
   "outputs": [
    {
     "ename": "SyntaxError",
     "evalue": "invalid syntax (282945223.py, line 1)",
     "output_type": "error",
     "traceback": [
      "\u001b[0;36m  Cell \u001b[0;32mIn[46], line 1\u001b[0;36m\u001b[0m\n\u001b[0;31m    4 >= 0 and 1 !== '1'\u001b[0m\n\u001b[0m                   ^\u001b[0m\n\u001b[0;31mSyntaxError\u001b[0m\u001b[0;31m:\u001b[0m invalid syntax\n"
     ]
    }
   ],
   "source": [
    "4 >= 0 and 1 !== '1'\n",
    "#  1 !== '1' contains a syntax error. The correct operator to use for\n",
    "#  \"not equal\" in Python is != rather than !==. "
   ]
  },
  {
   "cell_type": "code",
   "execution_count": 48,
   "id": "500dff6f",
   "metadata": {},
   "outputs": [
    {
     "data": {
      "text/plain": [
       "True"
      ]
     },
     "execution_count": 48,
     "metadata": {},
     "output_type": "execute_result"
    }
   ],
   "source": [
    "6 % 3 == 0\n",
    "#Remainder is zero hence true"
   ]
  },
  {
   "cell_type": "code",
   "execution_count": 50,
   "id": "5d6e4415",
   "metadata": {},
   "outputs": [
    {
     "data": {
      "text/plain": [
       "True"
      ]
     },
     "execution_count": 50,
     "metadata": {},
     "output_type": "execute_result"
    }
   ],
   "source": [
    "5 % 2 != 0\n",
    "#Remainder is not zero hence true"
   ]
  },
  {
   "cell_type": "code",
   "execution_count": 52,
   "id": "5ebba369",
   "metadata": {},
   "outputs": [
    {
     "ename": "TypeError",
     "evalue": "can only concatenate list (not \"int\") to list",
     "output_type": "error",
     "traceback": [
      "\u001b[0;31m---------------------------------------------------------------------------\u001b[0m",
      "\u001b[0;31mTypeError\u001b[0m                                 Traceback (most recent call last)",
      "Cell \u001b[0;32mIn[52], line 1\u001b[0m\n\u001b[0;32m----> 1\u001b[0m [\u001b[38;5;241m1\u001b[39m] \u001b[38;5;241m+\u001b[39m \u001b[38;5;241m2\u001b[39m\n",
      "\u001b[0;31mTypeError\u001b[0m: can only concatenate list (not \"int\") to list"
     ]
    }
   ],
   "source": [
    "[1] + 2\n",
    "#list and integer can't be concatenated"
   ]
  },
  {
   "cell_type": "code",
   "execution_count": 54,
   "id": "e438f1ba",
   "metadata": {},
   "outputs": [
    {
     "data": {
      "text/plain": [
       "[1, 2]"
      ]
     },
     "execution_count": 54,
     "metadata": {},
     "output_type": "execute_result"
    }
   ],
   "source": [
    "[1] + [2]\n",
    "# concatenating the elements in the 2 lists together\n"
   ]
  },
  {
   "cell_type": "code",
   "execution_count": 56,
   "id": "e9d89ac3",
   "metadata": {},
   "outputs": [
    {
     "data": {
      "text/plain": [
       "[1, 1]"
      ]
     },
     "execution_count": 56,
     "metadata": {},
     "output_type": "execute_result"
    }
   ],
   "source": [
    "[1] * 2\n",
    "# The expression [1] * 2 creates a list containing two copies of the element 1. \n",
    "#The resulting list will be [1, 1].\n",
    "\n",
    "#In Python, the * operator applied to a list and an integer value performs list replication.\n",
    "#It creates a new list by repeating the elements of the original list a specified number of times.\n",
    "\n",
    "#In this case, the original list is [1], and the * 2 specifies that the elements of the list should \n",
    "#be repeated twice. Therefore, the resulting list [1, 1] is created, consisting of two copies of the element 1."
   ]
  },
  {
   "cell_type": "code",
   "execution_count": 59,
   "id": "f2ac093b",
   "metadata": {},
   "outputs": [
    {
     "ename": "TypeError",
     "evalue": "can't multiply sequence by non-int of type 'list'",
     "output_type": "error",
     "traceback": [
      "\u001b[0;31m---------------------------------------------------------------------------\u001b[0m",
      "\u001b[0;31mTypeError\u001b[0m                                 Traceback (most recent call last)",
      "Cell \u001b[0;32mIn[59], line 1\u001b[0m\n\u001b[0;32m----> 1\u001b[0m [\u001b[38;5;241m1\u001b[39m] \u001b[38;5;241m*\u001b[39m [\u001b[38;5;241m2\u001b[39m]\n",
      "\u001b[0;31mTypeError\u001b[0m: can't multiply sequence by non-int of type 'list'"
     ]
    }
   ],
   "source": [
    "[1] * [2]\n",
    "#  In Python, the * operator when used with lists performs list replication, but it requires the right operand to be an \n",
    "# an integer representing the number of times the list should be repeated.\n",
    "\n",
    "# In this case, the left operand is a list [1], but the right operand is another list [2].\n",
    "# Since the right operand is not an integer, it does not fulfill the requirements for list replication. \n",
    "# Hence, it raises a TypeError."
   ]
  },
  {
   "cell_type": "code",
   "execution_count": 63,
   "id": "d9504af8",
   "metadata": {},
   "outputs": [
    {
     "data": {
      "text/plain": [
       "True"
      ]
     },
     "execution_count": 63,
     "metadata": {},
     "output_type": "execute_result"
    }
   ],
   "source": [
    "[] + [] == []\n",
    "# In Python, the + operator, when used with lists, performs list concatenation.\n",
    "# When you concatenate two empty lists [] using the + operator, \n",
    "# the resulting list is also an empty list [].\n",
    "\n",
    "#The expression [] + [] evaluates to [], and when compared with == to [], it yields True. \n",
    "#This means that the concatenation of two empty lists results in an empty list, which is equal to an empty list."
   ]
  },
  {
   "cell_type": "code",
   "execution_count": 65,
   "id": "0a8d2e21",
   "metadata": {},
   "outputs": [
    {
     "ename": "TypeError",
     "evalue": "unsupported operand type(s) for +: 'dict' and 'dict'",
     "output_type": "error",
     "traceback": [
      "\u001b[0;31m---------------------------------------------------------------------------\u001b[0m",
      "\u001b[0;31mTypeError\u001b[0m                                 Traceback (most recent call last)",
      "Cell \u001b[0;32mIn[65], line 1\u001b[0m\n\u001b[0;32m----> 1\u001b[0m {} \u001b[38;5;241m+\u001b[39m {}\n",
      "\u001b[0;31mTypeError\u001b[0m: unsupported operand type(s) for +: 'dict' and 'dict'"
     ]
    }
   ],
   "source": [
    "{} + {}\n"
   ]
  },
  {
   "cell_type": "markdown",
   "id": "c8714ada",
   "metadata": {},
   "source": [
    "### 4 Describe the following scenarios. You will need to create and assign variables and use operators."
   ]
  },
  {
   "cell_type": "code",
   "execution_count": 68,
   "id": "8aee9774",
   "metadata": {},
   "outputs": [
    {
     "name": "stdout",
     "output_type": "stream",
     "text": [
      "45\n"
     ]
    }
   ],
   "source": [
    "\n",
    "item1_price = 10\n",
    "item2_price = 15\n",
    "item3_price = 20\n",
    "\n",
    "total_cost = item1_price + item2_price + item3_price\n",
    "print (total_cost)"
   ]
  },
  {
   "cell_type": "markdown",
   "id": "30dd53db",
   "metadata": {},
   "source": [
    "### 5  You have rented some movies for your kids:\n",
    "\n",
    "The Little Mermaid for 3 days\n",
    "Brother Bear for 5 days\n",
    "Hercules for 1 day\n",
    "If the daily fee to rent a movie is 3 dollars, how much will you have to pay?\n"
   ]
  },
  {
   "cell_type": "code",
   "execution_count": 72,
   "id": "62b58171",
   "metadata": {},
   "outputs": [
    {
     "name": "stdout",
     "output_type": "stream",
     "text": [
      "27\n"
     ]
    }
   ],
   "source": [
    "\n",
    "The_Little_Mermaid = 3\n",
    "Brother_Bear = 5\n",
    "Hercules = 1\n",
    "rent_a_movie_fee =3\n",
    "total_you_pay = (The_Little_Mermaid + Brother_Bear + Hercules) * rent_a_movie_fee\n",
    "print (total_you_pay)"
   ]
  },
  {
   "cell_type": "markdown",
   "id": "92acefdb",
   "metadata": {},
   "source": [
    "### 6 Suppose you're working as a contractor for 3 companies: Google, Amazon and Facebook.\n",
    "\n",
    "They pay you the following hourly rates:\n",
    "\n",
    "Google: 400 dollars\n",
    "Amazon: 380 dollars\n",
    "Facebook: 350 dollars\n",
    "This week you worked: 10 hours for Facebook, 6 hours for Google and 4 hours for Amazon.\n",
    "\n",
    "How much will you receive in payment for this week?"
   ]
  },
  {
   "cell_type": "code",
   "execution_count": 8,
   "id": "ee76093e",
   "metadata": {},
   "outputs": [
    {
     "name": "stdout",
     "output_type": "stream",
     "text": [
      "7420\n"
     ]
    }
   ],
   "source": [
    "\n",
    "\n",
    "Google = 400\n",
    "Amazon = 380\n",
    "Facebook = 350\n",
    "hours_worked_weekly_facebook = 10\n",
    "hours_worked_weekly_Google = 6\n",
    "hours_worked_weekly_Amazon = 4 \n",
    "total_weekly_pay = ((Google * hours_worked_weekly_Google) + (Amazon * hours_worked_weekly_Amazon) + (Facebook * hours_worked_weekly_facebook))\n",
    "print(total_weekly_pay)"
   ]
  },
  {
   "cell_type": "markdown",
   "id": "60f91ef3",
   "metadata": {},
   "source": [
    "### 7   A student can be enrolled to a class\n",
    " only if the class is not full and the class schedule does not conflict with her current schedule.\n",
    "\n",
    " when every condition is in student's favor"
   ]
  },
  {
   "cell_type": "code",
   "execution_count": 11,
   "id": "9c8dda0c",
   "metadata": {},
   "outputs": [
    {
     "name": "stdout",
     "output_type": "stream",
     "text": [
      "Student can be enrolled in the class.\n",
      "Student cannot be enrolled in the class.\n",
      "Student cannot be enrolled in the class.\n",
      "Student cannot be enrolled in the class.\n",
      "Student cannot be enrolled in the class.\n"
     ]
    }
   ],
   "source": [
    "#  when every condition is in student's favor\n",
    "\n",
    "class_capacity = 30\n",
    "current_enrollment = 25\n",
    "class_schedule_conflict = False\n",
    "student_current_schedule_conflict = False\n",
    "\n",
    "can_enroll = (current_enrollment < class_capacity) and (not class_schedule_conflict) and (not student_current_schedule_conflict)\n",
    "\n",
    "if can_enroll:\n",
    "    print(\"Student can be enrolled in the class.\")\n",
    "else:\n",
    "    print(\"Student cannot be enrolled in the class.\")\n",
    "    \n",
    "    \n",
    "class_capacity = 35 \n",
    "current_enrollment = 35   # when class is full\n",
    "class_schedule_conflict = False\n",
    "student_current_schedule_conflict = False\n",
    "\n",
    "can_enroll = (current_enrollment < class_capacity) and (not class_schedule_conflict) and (not student_current_schedule_conflict)\n",
    "\n",
    "if can_enroll:\n",
    "    print(\"Student can be enrolled in the class.\")\n",
    "else:\n",
    "    print(\"Student cannot be enrolled in the class.\")\n",
    "    \n",
    "    \n",
    "    \n",
    "class_capacity = 35\n",
    "current_enrollment = 34\n",
    "class_schedule_conflict = True   # when there is class schedule conflict \n",
    "student_current_schedule_conflict = False\n",
    "\n",
    "can_enroll = (current_enrollment < class_capacity) and (not class_schedule_conflict) and (not student_current_schedule_conflict)\n",
    "\n",
    "if can_enroll:\n",
    "    print(\"Student can be enrolled in the class.\")\n",
    "else:\n",
    "    print(\"Student cannot be enrolled in the class.\")\n",
    "    \n",
    "    \n",
    "\n",
    "class_capacity = 35\n",
    "current_enrollment = 34\n",
    "class_schedule_conflict = False\n",
    "student_current_schedule_conflict = True # when there is student schedule conflict \n",
    "\n",
    "can_enroll = (current_enrollment < class_capacity) and (not class_schedule_conflict) and (not student_current_schedule_conflict)\n",
    "\n",
    "if can_enroll:\n",
    "    print(\"Student can be enrolled in the class.\")\n",
    "else:\n",
    "    print(\"Student cannot be enrolled in the class.\")\n",
    "    \n",
    "    \n",
    "    \n",
    "    class_capacity = 25\n",
    "current_enrollment = 20\n",
    "class_schedule_conflict = True # when there is class schedule conflict\n",
    "student_current_schedule_conflict = True # when there is student schedule conflict\n",
    "\n",
    "can_enroll = (current_enrollment < class_capacity) and (not class_schedule_conflict) and (not student_current_schedule_conflict)\n",
    "\n",
    "if can_enroll:\n",
    "    print(\"Student can be enrolled in the class.\")\n",
    "else:\n",
    "    print(\"Student cannot be enrolled in the class.\")\n",
    "    \n",
    "    \n",
    "    "
   ]
  },
  {
   "cell_type": "markdown",
   "id": "acb3ebac",
   "metadata": {},
   "source": [
    "### 8 A product offer can be applied only if people buys more than 2 items, and the offer has not expired. \n",
    " Premium members do not need to buy a specific amount of products.\n",
    "\n",
    " when every condition is in favor to apply for the product offer"
   ]
  },
  {
   "cell_type": "code",
   "execution_count": 12,
   "id": "68fb81bd",
   "metadata": {
    "scrolled": true
   },
   "outputs": [
    {
     "name": "stdout",
     "output_type": "stream",
     "text": [
      "Product offer can be applied.\n",
      "Product offer cannot be applied.\n"
     ]
    }
   ],
   "source": [
    "\n",
    "items_purchased = 3\n",
    "offer_expired = False\n",
    "is_premium_member = True\n",
    "\n",
    "can_apply_offer = ((items_purchased > 2) and (not offer_expired)) or is_premium_member\n",
    "\n",
    "if can_apply_offer:\n",
    "    print(\"Product offer can be applied.\")\n",
    "else:\n",
    "    print(\"Product offer cannot be applied.\")\n",
    "    \n",
    "    \n",
    "items_purchased = 2     # condition not in favor\n",
    "offer_expired = False   # condition in favor\n",
    "is_premium_member = False  # condition not in favor\n",
    "\n",
    "can_apply_offer = ((items_purchased > 2) and (not offer_expired)) or is_premium_member\n",
    "\n",
    "if can_apply_offer:\n",
    "    print(\"Product offer can be applied.\")\n",
    "else:\n",
    "    print(\"Product offer cannot be applied.\")"
   ]
  },
  {
   "cell_type": "markdown",
   "id": "eedf0888",
   "metadata": {},
   "source": [
    "### 9 Continue working in the data_types_and_variables.py file. Use the following code to follow the instructions below:\n",
    "\n",
    "\n",
    "username = 'codeup'\n",
    "password = 'notastrongpassword'\n",
    "Create a variable that holds a boolean value for each of the following conditions:\n",
    "\n",
    "The password must be at least 5 characters\n",
    "The username must be no more than 20 characters\n",
    "The password must not be the same as the username\n",
    "Bonus Neither the username or password can start or end with whitespace\n"
   ]
  },
  {
   "cell_type": "code",
   "execution_count": 15,
   "id": "198f7a47",
   "metadata": {},
   "outputs": [
    {
     "name": "stdout",
     "output_type": "stream",
     "text": [
      "Is valid password length? True\n",
      "Is valid username length? True\n",
      "Is different password and username? True\n",
      "Is valid username (no whitespace)? True\n",
      "Is valid password (no whitespace)? True\n"
     ]
    }
   ],
   "source": [
    "\n",
    "username = 'codeup'\n",
    "password = 'notastrongpassword'\n",
    "\n",
    "# Condition: The password must be at least 5 characters\n",
    "is_valid_password_length = len(password) >= 5\n",
    "\n",
    "# Condition: The username must be no more than 20 characters\n",
    "is_valid_username_length = len(username) <= 20\n",
    "\n",
    "# Condition: The password must not be the same as the username\n",
    "is_different_password_username = password != username\n",
    "\n",
    "# Bonus:- Condition: Neither the username nor password can start or end with whitespace\n",
    "is_valid_username_whitespace = not (username.startswith(' ') or username.endswith(' '))\n",
    "is_valid_password_whitespace = not (password.startswith(' ') or password.endswith(' '))\n",
    "\n",
    "# Printing the boolean variables\n",
    "print(\"Is valid password length?\", is_valid_password_length)\n",
    "print(\"Is valid username length?\", is_valid_username_length)\n",
    "print(\"Is different password and username?\", is_different_password_username)\n",
    "print(\"Is valid username (no whitespace)?\", is_valid_username_whitespace)\n",
    "print(\"Is valid password (no whitespace)?\", is_valid_password_whitespace)\n"
   ]
  },
  {
   "cell_type": "code",
   "execution_count": null,
   "id": "02dc677b",
   "metadata": {},
   "outputs": [],
   "source": [
    "\n"
   ]
  },
  {
   "cell_type": "code",
   "execution_count": null,
   "id": "1621e3d5",
   "metadata": {},
   "outputs": [],
   "source": []
  }
 ],
 "metadata": {
  "kernelspec": {
   "display_name": "Python 3 (ipykernel)",
   "language": "python",
   "name": "python3"
  },
  "language_info": {
   "codemirror_mode": {
    "name": "ipython",
    "version": 3
   },
   "file_extension": ".py",
   "mimetype": "text/x-python",
   "name": "python",
   "nbconvert_exporter": "python",
   "pygments_lexer": "ipython3",
   "version": "3.11.3"
  }
 },
 "nbformat": 4,
 "nbformat_minor": 5
}
